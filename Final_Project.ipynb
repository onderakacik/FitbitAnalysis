{
 "cells": [
  {
   "cell_type": "markdown",
   "metadata": {
    "id": "YldtO-P7VZtB"
   },
   "source": [
    "# Project Big Data - Group 22\n",
    "## Fitbit Analysis Notebook\n",
    "\n",
    "- Yildiz, Damla 2755457\n",
    "- Akaçık, Onder 2757404\n",
    "- Giaj Levra, Federico 2674188\n",
    "\n",
    "--- "
   ]
  },
  {
   "cell_type": "markdown",
   "metadata": {},
   "source": [
    "# Table of Contents\n",
    "1. [Import data from folder](#datagather)\n",
    "2. [Daily Activity Analysis](#dailyact)\n",
    "3. [Sleep Analysis](#sleep)\n",
    "4. [Heart Risk Analysis](#heart)"
   ]
  },
  {
   "cell_type": "code",
   "execution_count": 1,
   "metadata": {
    "colab": {
     "base_uri": "https://localhost:8080/"
    },
    "id": "zgogRqepVZtE",
    "outputId": "7e0ce024-89c0-4d41-8e89-3fbfa595a9cf"
   },
   "outputs": [],
   "source": [
    "import pandas as pd\n",
    "import matplotlib.pyplot as plt\n",
    "import seaborn as sns\n",
    "import numpy as np\n",
    "import os\n",
    "\n",
    "sns.set_style(\"darkgrid\")"
   ]
  },
  {
   "cell_type": "markdown",
   "metadata": {
    "id": "CzShtFSqVZtE"
   },
   "source": [
    "### Import data from folder <a name=\"datagather\"></a>"
   ]
  },
  {
   "cell_type": "code",
   "execution_count": 2,
   "metadata": {
    "colab": {
     "base_uri": "https://localhost:8080/"
    },
    "id": "rGLyLd-gVZtF",
    "outputId": "edfc46d9-5f42-4991-ae5e-aed54d523cb9"
   },
   "outputs": [],
   "source": [
    "path = './Fitabase Data 4.12.16-5.12.16'\n",
    "paths_list = [\n",
    "    os.path.join(path, f) for f in os.listdir(path)\n",
    "    if os.path.isfile(os.path.join(path, f))\n",
    "]"
   ]
  },
  {
   "cell_type": "code",
   "execution_count": 3,
   "metadata": {
    "colab": {
     "base_uri": "https://localhost:8080/"
    },
    "id": "Myr9TK9XVZtF",
    "outputId": "6731bea1-bc59-49be-e959-900a931f2087"
   },
   "outputs": [
    {
     "data": {
      "text/plain": [
       "dict_keys(['minuteIntensitiesWide_merged', 'dailyActivity_merged', 'sleepDay_merged', 'heartrate_seconds_merged', 'minuteIntensitiesNarrow_merged', 'minuteMETsNarrow_merged', 'hourlySteps_merged', 'hourlyIntensities_merged', 'dailyCalories_merged', 'hourlyCalories_merged', 'minuteSleep_merged', 'minuteCaloriesNarrow_merged', 'dailySteps_merged', 'minuteCaloriesWide_merged', 'minuteStepsNarrow_merged', 'minuteStepsWide_merged', 'weightLogInfo_merged', 'dailyIntensities_merged'])"
      ]
     },
     "execution_count": 3,
     "metadata": {},
     "output_type": "execute_result"
    }
   ],
   "source": [
    "dataframes = {}\n",
    "for i, f in enumerate(os.listdir(path)):\n",
    "    dataframes[f.split('.')[0]] = pd.read_csv(paths_list[i])\n",
    "dataframes.keys()"
   ]
  },
  {
   "cell_type": "markdown",
   "metadata": {
    "id": "Y-YWyEq3VZtF"
   },
   "source": [
    "---\n",
    "\n",
    "## Daily Activity Analysis <a name=\"dailyact\"></a>"
   ]
  },
  {
   "cell_type": "markdown",
   "metadata": {
    "id": "g6LH8b4HVZtH"
   },
   "source": [
    "Since `dailyActivity_merged` includes the data we need from `dailyCalories_merged`, `dailyIntensities_merged` and `dailySteps_merged`, we will be using that dataset.\n",
    "\n",
    "Moreover, for this analysis we will be using `sleepDay_merged` as it allows us to better understand our users and their activity habits.\n",
    "\n",
    "We will also be adding a column of boolean values which acts as an indicator of whether the date is a weekend or a weekday. This will be useful for later investigations."
   ]
  },
  {
   "cell_type": "code",
   "execution_count": 4,
   "metadata": {
    "colab": {
     "base_uri": "https://localhost:8080/",
     "height": 269
    },
    "id": "TdNuRvLfVZtI",
    "outputId": "db17c7c7-0617-433e-ef96-ca80ae8001ff"
   },
   "outputs": [],
   "source": [
    "df = dataframes['dailyActivity_merged']\n",
    "df_sleep = dataframes['sleepDay_merged']\n",
    "\n",
    "df['ActivityDate'] = pd.to_datetime(df['ActivityDate'])\n",
    "df_sleep['SleepDay'] = pd.to_datetime(df_sleep['SleepDay'])\n",
    "\n",
    "df['IsWeekend'] = df.ActivityDate.dt.day_name().isin(['Saturday', 'Sunday'])\n",
    "df_sleep['IsWeekend'] = df_sleep.SleepDay.dt.day_name().isin(\n",
    "    ['Saturday', 'Sunday'])"
   ]
  },
  {
   "cell_type": "markdown",
   "metadata": {
    "id": "93OWD85FVZtJ"
   },
   "source": [
    "### Exploratory Data Analysis <a name=\"dailyexplo\"></a>\n",
    "\n",
    "We will start by examining the relationship between number of steps taken ('TotalSteps') and the amount of calories burned ('Calories')"
   ]
  },
  {
   "cell_type": "code",
   "execution_count": 5,
   "metadata": {
    "colab": {
     "base_uri": "https://localhost:8080/",
     "height": 0
    },
    "id": "7g8yDkiEVZtJ",
    "outputId": "c680054a-4e67-4232-ec20-35752cdabfad"
   },
   "outputs": [
    {
     "data": {
      "text/plain": [
       "<AxesSubplot:xlabel='TotalSteps', ylabel='Calories'>"
      ]
     },
     "execution_count": 5,
     "metadata": {},
     "output_type": "execute_result"
    },
    {
     "data": {
      "image/png": "[encoded data removed]",
      "text/plain": [
       "<Figure size 432x288 with 1 Axes>"
      ]
     },
     "metadata": {
      "needs_background": "light"
     },
     "output_type": "display_data"
    }
   ],
   "source": [
    "sns.regplot(data=df, x='TotalSteps', y='Calories', color='b', marker='+')"
   ]
  },
  {
   "cell_type": "markdown",
   "metadata": {
    "id": "RP-Y-jsiVZtJ"
   },
   "source": [
    "- As expected there is a linear relationship between TotalSteps and Calories. \n",
    "- The intercept of the regression line corresponds to the basal metabolic rate which means the amount of calories burned in a day at rest.\n",
    "- Unexpectedly there are datapoints with Calories value equals to 0. This seems like an outlier since even if you spend your whole day sleeping and being sedentary, you burn calories as much as your basal metabolic rate."
   ]
  },
  {
   "cell_type": "markdown",
   "metadata": {
    "id": "yr3tznFGVZtJ"
   },
   "source": [
    "We can look more closely to the datapoints with low Calories values. Total calories burned being less than 1000 is not that [realistic](https://www.hollandandbarrett.com/the-health-hub/weight-management/fitness/exercise/what-is-bmr/)\n",
    ". Therefore, we can focus on the datapoints with Calories value less than 1000. "
   ]
  },
  {
   "cell_type": "code",
   "execution_count": 6,
   "metadata": {
    "colab": {
     "base_uri": "https://localhost:8080/",
     "height": 0
    },
    "id": "hVGO3w1-VZtK",
    "outputId": "0e551b57-9073-49f3-a598-1a3d57014a88",
    "scrolled": true
   },
   "outputs": [
    {
     "data": {
      "text/html": [
       "<div>\n",
       "<style scoped>\n",
       "    .dataframe tbody tr th:only-of-type {\n",
       "        vertical-align: middle;\n",
       "    }\n",
       "\n",
       "    .dataframe tbody tr th {\n",
       "        vertical-align: top;\n",
       "    }\n",
       "\n",
       "    .dataframe thead th {\n",
       "        text-align: right;\n",
       "    }\n",
       "</style>\n",
       "<table border=\"1\" class=\"dataframe\">\n",
       "  <thead>\n",
       "    <tr style=\"text-align: right;\">\n",
       "      <th></th>\n",
       "      <th>Id</th>\n",
       "      <th>ActivityDate</th>\n",
       "      <th>TotalSteps</th>\n",
       "      <th>TotalDistance</th>\n",
       "      <th>TrackerDistance</th>\n",
       "      <th>LoggedActivitiesDistance</th>\n",
       "      <th>VeryActiveDistance</th>\n",
       "      <th>ModeratelyActiveDistance</th>\n",
       "      <th>LightActiveDistance</th>\n",
       "      <th>SedentaryActiveDistance</th>\n",
       "      <th>VeryActiveMinutes</th>\n",
       "      <th>FairlyActiveMinutes</th>\n",
       "      <th>LightlyActiveMinutes</th>\n",
       "      <th>SedentaryMinutes</th>\n",
       "      <th>Calories</th>\n",
       "      <th>IsWeekend</th>\n",
       "    </tr>\n",
       "  </thead>\n",
       "  <tbody>\n",
       "    <tr>\n",
       "      <th>30</th>\n",
       "      <td>1503960366</td>\n",
       "      <td>2016-05-12</td>\n",
       "      <td>0</td>\n",
       "      <td>0.00</td>\n",
       "      <td>0.00</td>\n",
       "      <td>0.0</td>\n",
       "      <td>0.00</td>\n",
       "      <td>0.0</td>\n",
       "      <td>0.00</td>\n",
       "      <td>0.0</td>\n",
       "      <td>0</td>\n",
       "      <td>0</td>\n",
       "      <td>0</td>\n",
       "      <td>1440</td>\n",
       "      <td>0</td>\n",
       "      <td>False</td>\n",
       "    </tr>\n",
       "    <tr>\n",
       "      <th>122</th>\n",
       "      <td>1844505072</td>\n",
       "      <td>2016-05-12</td>\n",
       "      <td>0</td>\n",
       "      <td>0.00</td>\n",
       "      <td>0.00</td>\n",
       "      <td>0.0</td>\n",
       "      <td>0.00</td>\n",
       "      <td>0.0</td>\n",
       "      <td>0.00</td>\n",
       "      <td>0.0</td>\n",
       "      <td>0</td>\n",
       "      <td>0</td>\n",
       "      <td>0</td>\n",
       "      <td>711</td>\n",
       "      <td>665</td>\n",
       "      <td>False</td>\n",
       "    </tr>\n",
       "    <tr>\n",
       "      <th>264</th>\n",
       "      <td>2347167796</td>\n",
       "      <td>2016-04-29</td>\n",
       "      <td>42</td>\n",
       "      <td>0.03</td>\n",
       "      <td>0.03</td>\n",
       "      <td>0.0</td>\n",
       "      <td>0.00</td>\n",
       "      <td>0.0</td>\n",
       "      <td>0.03</td>\n",
       "      <td>0.0</td>\n",
       "      <td>0</td>\n",
       "      <td>0</td>\n",
       "      <td>4</td>\n",
       "      <td>2</td>\n",
       "      <td>403</td>\n",
       "      <td>False</td>\n",
       "    </tr>\n",
       "    <tr>\n",
       "      <th>345</th>\n",
       "      <td>3977333714</td>\n",
       "      <td>2016-05-11</td>\n",
       "      <td>746</td>\n",
       "      <td>0.50</td>\n",
       "      <td>0.50</td>\n",
       "      <td>0.0</td>\n",
       "      <td>0.37</td>\n",
       "      <td>0.0</td>\n",
       "      <td>0.13</td>\n",
       "      <td>0.0</td>\n",
       "      <td>4</td>\n",
       "      <td>0</td>\n",
       "      <td>9</td>\n",
       "      <td>13</td>\n",
       "      <td>52</td>\n",
       "      <td>False</td>\n",
       "    </tr>\n",
       "    <tr>\n",
       "      <th>411</th>\n",
       "      <td>4319703577</td>\n",
       "      <td>2016-05-12</td>\n",
       "      <td>17</td>\n",
       "      <td>0.01</td>\n",
       "      <td>0.01</td>\n",
       "      <td>0.0</td>\n",
       "      <td>0.00</td>\n",
       "      <td>0.0</td>\n",
       "      <td>0.01</td>\n",
       "      <td>0.0</td>\n",
       "      <td>0</td>\n",
       "      <td>0</td>\n",
       "      <td>2</td>\n",
       "      <td>0</td>\n",
       "      <td>257</td>\n",
       "      <td>False</td>\n",
       "    </tr>\n",
       "  </tbody>\n",
       "</table>\n",
       "</div>"
      ],
      "text/plain": [
       "             Id ActivityDate  TotalSteps  TotalDistance  TrackerDistance  \\\n",
       "30   1503960366   2016-05-12           0           0.00             0.00   \n",
       "122  1844505072   2016-05-12           0           0.00             0.00   \n",
       "264  2347167796   2016-04-29          42           0.03             0.03   \n",
       "345  3977333714   2016-05-11         746           0.50             0.50   \n",
       "411  4319703577   2016-05-12          17           0.01             0.01   \n",
       "\n",
       "     LoggedActivitiesDistance  VeryActiveDistance  ModeratelyActiveDistance  \\\n",
       "30                        0.0                0.00                       0.0   \n",
       "122                       0.0                0.00                       0.0   \n",
       "264                       0.0                0.00                       0.0   \n",
       "345                       0.0                0.37                       0.0   \n",
       "411                       0.0                0.00                       0.0   \n",
       "\n",
       "     LightActiveDistance  SedentaryActiveDistance  VeryActiveMinutes  \\\n",
       "30                  0.00                      0.0                  0   \n",
       "122                 0.00                      0.0                  0   \n",
       "264                 0.03                      0.0                  0   \n",
       "345                 0.13                      0.0                  4   \n",
       "411                 0.01                      0.0                  0   \n",
       "\n",
       "     FairlyActiveMinutes  LightlyActiveMinutes  SedentaryMinutes  Calories  \\\n",
       "30                     0                     0              1440         0   \n",
       "122                    0                     0               711       665   \n",
       "264                    0                     4                 2       403   \n",
       "345                    0                     9                13        52   \n",
       "411                    0                     2                 0       257   \n",
       "\n",
       "     IsWeekend  \n",
       "30       False  \n",
       "122      False  \n",
       "264      False  \n",
       "345      False  \n",
       "411      False  "
      ]
     },
     "execution_count": 6,
     "metadata": {},
     "output_type": "execute_result"
    }
   ],
   "source": [
    "df[df['Calories'] < 1000].head(5)"
   ]
  },
  {
   "cell_type": "markdown",
   "metadata": {
    "id": "6xQPZ5hWVZtK"
   },
   "source": [
    "It seems that when the amount of calories burned is less than 1000 the smartwatch is being worn for a limited amount of time.\n",
    "\n",
    "4 data points has SedentaryMinutes as 1440, which is the whole day, and 0 Calories burned. This is not possible as a person would not sit still all day long. \n",
    "\n",
    "In conclusion, these 4 datapoints are outliers and we can remove them from the data frame."
   ]
  },
  {
   "cell_type": "code",
   "execution_count": 7,
   "metadata": {
    "colab": {
     "base_uri": "https://localhost:8080/",
     "height": 0
    },
    "id": "lJsQt3D1VZtK",
    "outputId": "003f1b14-33af-46cb-a38c-fed79c23882e"
   },
   "outputs": [],
   "source": [
    "outliers = df[df['Calories'] < 1000][df[df['Calories'] < 1000]\n",
    "                                     ['SedentaryMinutes'] == 1440]\n",
    "df_dropped = df.drop(outliers.index)"
   ]
  },
  {
   "cell_type": "markdown",
   "metadata": {
    "id": "Iab1J8pKVZtK"
   },
   "source": [
    "After removing the outliers we will be analysing the BMR. Moreover we will look into the users which wore the smartwatch whole day.\n",
    "\n",
    "We accomplish this by adding the following columns: `VeryActiveMinutes`, `FairlyActiveMinutes`, `LightlyActiveMinutes` and `SedentaryMinutes`. \n",
    "\n",
    "If their sum is equal to 1440 we can assume they wore the watch all day long. "
   ]
  },
  {
   "cell_type": "code",
   "execution_count": 8,
   "metadata": {
    "id": "AJR9dFWaVZtK"
   },
   "outputs": [],
   "source": [
    "df['UsedAllDay'] = df[[\n",
    "    'VeryActiveMinutes', 'FairlyActiveMinutes', 'LightlyActiveMinutes',\n",
    "    'SedentaryMinutes'\n",
    "]].aggregate(np.sum, axis=1) == 1440\n",
    "df_dropped['UsedAllDay'] = df[[\n",
    "    'VeryActiveMinutes', 'FairlyActiveMinutes', 'LightlyActiveMinutes',\n",
    "    'SedentaryMinutes'\n",
    "]].aggregate(np.sum, axis=1) == 1440"
   ]
  },
  {
   "cell_type": "markdown",
   "metadata": {
    "id": "-Yv7rgKCVZtL"
   },
   "source": [
    "Then, let's get the statistics for the days with 0 steps taken and the smartwatch was worn all day."
   ]
  },
  {
   "cell_type": "code",
   "execution_count": 9,
   "metadata": {
    "colab": {
     "base_uri": "https://localhost:8080/",
     "height": 0
    },
    "id": "GDm0VCc1VZtL",
    "outputId": "310614ef-2538-449c-aeba-a13bfc68512d"
   },
   "outputs": [
    {
     "data": {
      "text/html": [
       "<div>\n",
       "<style scoped>\n",
       "    .dataframe tbody tr th:only-of-type {\n",
       "        vertical-align: middle;\n",
       "    }\n",
       "\n",
       "    .dataframe tbody tr th {\n",
       "        vertical-align: top;\n",
       "    }\n",
       "\n",
       "    .dataframe thead th {\n",
       "        text-align: right;\n",
       "    }\n",
       "</style>\n",
       "<table border=\"1\" class=\"dataframe\">\n",
       "  <thead>\n",
       "    <tr style=\"text-align: right;\">\n",
       "      <th></th>\n",
       "      <th>Id</th>\n",
       "      <th>TotalSteps</th>\n",
       "      <th>TotalDistance</th>\n",
       "      <th>TrackerDistance</th>\n",
       "      <th>LoggedActivitiesDistance</th>\n",
       "      <th>VeryActiveDistance</th>\n",
       "      <th>ModeratelyActiveDistance</th>\n",
       "      <th>LightActiveDistance</th>\n",
       "      <th>SedentaryActiveDistance</th>\n",
       "      <th>VeryActiveMinutes</th>\n",
       "      <th>FairlyActiveMinutes</th>\n",
       "      <th>LightlyActiveMinutes</th>\n",
       "      <th>SedentaryMinutes</th>\n",
       "      <th>Calories</th>\n",
       "    </tr>\n",
       "  </thead>\n",
       "  <tbody>\n",
       "    <tr>\n",
       "      <th>count</th>\n",
       "      <td>6.900000e+01</td>\n",
       "      <td>69.0</td>\n",
       "      <td>69.0</td>\n",
       "      <td>69.0</td>\n",
       "      <td>69.0</td>\n",
       "      <td>69.0</td>\n",
       "      <td>69.0</td>\n",
       "      <td>69.0</td>\n",
       "      <td>69.0</td>\n",
       "      <td>69.000000</td>\n",
       "      <td>69.0</td>\n",
       "      <td>69.0</td>\n",
       "      <td>69.000000</td>\n",
       "      <td>69.000000</td>\n",
       "    </tr>\n",
       "    <tr>\n",
       "      <th>mean</th>\n",
       "      <td>4.751017e+09</td>\n",
       "      <td>0.0</td>\n",
       "      <td>0.0</td>\n",
       "      <td>0.0</td>\n",
       "      <td>0.0</td>\n",
       "      <td>0.0</td>\n",
       "      <td>0.0</td>\n",
       "      <td>0.0</td>\n",
       "      <td>0.0</td>\n",
       "      <td>0.478261</td>\n",
       "      <td>0.0</td>\n",
       "      <td>0.0</td>\n",
       "      <td>1439.521739</td>\n",
       "      <td>1816.956522</td>\n",
       "    </tr>\n",
       "    <tr>\n",
       "      <th>std</th>\n",
       "      <td>2.432003e+09</td>\n",
       "      <td>0.0</td>\n",
       "      <td>0.0</td>\n",
       "      <td>0.0</td>\n",
       "      <td>0.0</td>\n",
       "      <td>0.0</td>\n",
       "      <td>0.0</td>\n",
       "      <td>0.0</td>\n",
       "      <td>0.0</td>\n",
       "      <td>3.972733</td>\n",
       "      <td>0.0</td>\n",
       "      <td>0.0</td>\n",
       "      <td>3.972733</td>\n",
       "      <td>267.239342</td>\n",
       "    </tr>\n",
       "    <tr>\n",
       "      <th>min</th>\n",
       "      <td>1.844505e+09</td>\n",
       "      <td>0.0</td>\n",
       "      <td>0.0</td>\n",
       "      <td>0.0</td>\n",
       "      <td>0.0</td>\n",
       "      <td>0.0</td>\n",
       "      <td>0.0</td>\n",
       "      <td>0.0</td>\n",
       "      <td>0.0</td>\n",
       "      <td>0.000000</td>\n",
       "      <td>0.0</td>\n",
       "      <td>0.0</td>\n",
       "      <td>1407.000000</td>\n",
       "      <td>1347.000000</td>\n",
       "    </tr>\n",
       "    <tr>\n",
       "      <th>25%</th>\n",
       "      <td>1.927972e+09</td>\n",
       "      <td>0.0</td>\n",
       "      <td>0.0</td>\n",
       "      <td>0.0</td>\n",
       "      <td>0.0</td>\n",
       "      <td>0.0</td>\n",
       "      <td>0.0</td>\n",
       "      <td>0.0</td>\n",
       "      <td>0.0</td>\n",
       "      <td>0.000000</td>\n",
       "      <td>0.0</td>\n",
       "      <td>0.0</td>\n",
       "      <td>1440.000000</td>\n",
       "      <td>1688.000000</td>\n",
       "    </tr>\n",
       "    <tr>\n",
       "      <th>50%</th>\n",
       "      <td>4.020333e+09</td>\n",
       "      <td>0.0</td>\n",
       "      <td>0.0</td>\n",
       "      <td>0.0</td>\n",
       "      <td>0.0</td>\n",
       "      <td>0.0</td>\n",
       "      <td>0.0</td>\n",
       "      <td>0.0</td>\n",
       "      <td>0.0</td>\n",
       "      <td>0.000000</td>\n",
       "      <td>0.0</td>\n",
       "      <td>0.0</td>\n",
       "      <td>1440.000000</td>\n",
       "      <td>1841.000000</td>\n",
       "    </tr>\n",
       "    <tr>\n",
       "      <th>75%</th>\n",
       "      <td>6.775889e+09</td>\n",
       "      <td>0.0</td>\n",
       "      <td>0.0</td>\n",
       "      <td>0.0</td>\n",
       "      <td>0.0</td>\n",
       "      <td>0.0</td>\n",
       "      <td>0.0</td>\n",
       "      <td>0.0</td>\n",
       "      <td>0.0</td>\n",
       "      <td>0.000000</td>\n",
       "      <td>0.0</td>\n",
       "      <td>0.0</td>\n",
       "      <td>1440.000000</td>\n",
       "      <td>2017.000000</td>\n",
       "    </tr>\n",
       "    <tr>\n",
       "      <th>max</th>\n",
       "      <td>8.792010e+09</td>\n",
       "      <td>0.0</td>\n",
       "      <td>0.0</td>\n",
       "      <td>0.0</td>\n",
       "      <td>0.0</td>\n",
       "      <td>0.0</td>\n",
       "      <td>0.0</td>\n",
       "      <td>0.0</td>\n",
       "      <td>0.0</td>\n",
       "      <td>33.000000</td>\n",
       "      <td>0.0</td>\n",
       "      <td>0.0</td>\n",
       "      <td>1440.000000</td>\n",
       "      <td>2664.000000</td>\n",
       "    </tr>\n",
       "  </tbody>\n",
       "</table>\n",
       "</div>"
      ],
      "text/plain": [
       "                 Id  TotalSteps  TotalDistance  TrackerDistance  \\\n",
       "count  6.900000e+01        69.0           69.0             69.0   \n",
       "mean   4.751017e+09         0.0            0.0              0.0   \n",
       "std    2.432003e+09         0.0            0.0              0.0   \n",
       "min    1.844505e+09         0.0            0.0              0.0   \n",
       "25%    1.927972e+09         0.0            0.0              0.0   \n",
       "50%    4.020333e+09         0.0            0.0              0.0   \n",
       "75%    6.775889e+09         0.0            0.0              0.0   \n",
       "max    8.792010e+09         0.0            0.0              0.0   \n",
       "\n",
       "       LoggedActivitiesDistance  VeryActiveDistance  ModeratelyActiveDistance  \\\n",
       "count                      69.0                69.0                      69.0   \n",
       "mean                        0.0                 0.0                       0.0   \n",
       "std                         0.0                 0.0                       0.0   \n",
       "min                         0.0                 0.0                       0.0   \n",
       "25%                         0.0                 0.0                       0.0   \n",
       "50%                         0.0                 0.0                       0.0   \n",
       "75%                         0.0                 0.0                       0.0   \n",
       "max                         0.0                 0.0                       0.0   \n",
       "\n",
       "       LightActiveDistance  SedentaryActiveDistance  VeryActiveMinutes  \\\n",
       "count                 69.0                     69.0          69.000000   \n",
       "mean                   0.0                      0.0           0.478261   \n",
       "std                    0.0                      0.0           3.972733   \n",
       "min                    0.0                      0.0           0.000000   \n",
       "25%                    0.0                      0.0           0.000000   \n",
       "50%                    0.0                      0.0           0.000000   \n",
       "75%                    0.0                      0.0           0.000000   \n",
       "max                    0.0                      0.0          33.000000   \n",
       "\n",
       "       FairlyActiveMinutes  LightlyActiveMinutes  SedentaryMinutes  \\\n",
       "count                 69.0                  69.0         69.000000   \n",
       "mean                   0.0                   0.0       1439.521739   \n",
       "std                    0.0                   0.0          3.972733   \n",
       "min                    0.0                   0.0       1407.000000   \n",
       "25%                    0.0                   0.0       1440.000000   \n",
       "50%                    0.0                   0.0       1440.000000   \n",
       "75%                    0.0                   0.0       1440.000000   \n",
       "max                    0.0                   0.0       1440.000000   \n",
       "\n",
       "          Calories  \n",
       "count    69.000000  \n",
       "mean   1816.956522  \n",
       "std     267.239342  \n",
       "min    1347.000000  \n",
       "25%    1688.000000  \n",
       "50%    1841.000000  \n",
       "75%    2017.000000  \n",
       "max    2664.000000  "
      ]
     },
     "execution_count": 9,
     "metadata": {},
     "output_type": "execute_result"
    }
   ],
   "source": [
    "df_bmr = df_dropped[df_dropped['UsedAllDay']][df_dropped[\n",
    "    df_dropped['UsedAllDay']]['TotalSteps'] == 0]\n",
    "df_bmr.describe()"
   ]
  },
  {
   "cell_type": "markdown",
   "metadata": {
    "id": "Mx6-H7z9VZtL"
   },
   "source": [
    "Seems like there are some datapoints with a non-zero VeryActiveMinutes (Even though 0 steps were taken. That might be because of the form of the activity being different than a regular activity that requires walking, running or etc.). Let's also remove them."
   ]
  },
  {
   "cell_type": "code",
   "execution_count": 10,
   "metadata": {
    "id": "CAEJarROVZtL"
   },
   "outputs": [
    {
     "data": {
      "text/html": [
       "<div>\n",
       "<style scoped>\n",
       "    .dataframe tbody tr th:only-of-type {\n",
       "        vertical-align: middle;\n",
       "    }\n",
       "\n",
       "    .dataframe tbody tr th {\n",
       "        vertical-align: top;\n",
       "    }\n",
       "\n",
       "    .dataframe thead th {\n",
       "        text-align: right;\n",
       "    }\n",
       "</style>\n",
       "<table border=\"1\" class=\"dataframe\">\n",
       "  <thead>\n",
       "    <tr style=\"text-align: right;\">\n",
       "      <th></th>\n",
       "      <th>TotalSteps</th>\n",
       "      <th>SedentaryMinutes</th>\n",
       "      <th>Calories</th>\n",
       "    </tr>\n",
       "  </thead>\n",
       "  <tbody>\n",
       "    <tr>\n",
       "      <th>count</th>\n",
       "      <td>68.0</td>\n",
       "      <td>68.0</td>\n",
       "      <td>68.000000</td>\n",
       "    </tr>\n",
       "    <tr>\n",
       "      <th>mean</th>\n",
       "      <td>0.0</td>\n",
       "      <td>1440.0</td>\n",
       "      <td>1804.500000</td>\n",
       "    </tr>\n",
       "    <tr>\n",
       "      <th>std</th>\n",
       "      <td>0.0</td>\n",
       "      <td>0.0</td>\n",
       "      <td>248.226936</td>\n",
       "    </tr>\n",
       "    <tr>\n",
       "      <th>min</th>\n",
       "      <td>0.0</td>\n",
       "      <td>1440.0</td>\n",
       "      <td>1347.000000</td>\n",
       "    </tr>\n",
       "    <tr>\n",
       "      <th>25%</th>\n",
       "      <td>0.0</td>\n",
       "      <td>1440.0</td>\n",
       "      <td>1688.000000</td>\n",
       "    </tr>\n",
       "    <tr>\n",
       "      <th>50%</th>\n",
       "      <td>0.0</td>\n",
       "      <td>1440.0</td>\n",
       "      <td>1841.000000</td>\n",
       "    </tr>\n",
       "    <tr>\n",
       "      <th>75%</th>\n",
       "      <td>0.0</td>\n",
       "      <td>1440.0</td>\n",
       "      <td>1990.000000</td>\n",
       "    </tr>\n",
       "    <tr>\n",
       "      <th>max</th>\n",
       "      <td>0.0</td>\n",
       "      <td>1440.0</td>\n",
       "      <td>2064.000000</td>\n",
       "    </tr>\n",
       "  </tbody>\n",
       "</table>\n",
       "</div>"
      ],
      "text/plain": [
       "       TotalSteps  SedentaryMinutes     Calories\n",
       "count        68.0              68.0    68.000000\n",
       "mean          0.0            1440.0  1804.500000\n",
       "std           0.0               0.0   248.226936\n",
       "min           0.0            1440.0  1347.000000\n",
       "25%           0.0            1440.0  1688.000000\n",
       "50%           0.0            1440.0  1841.000000\n",
       "75%           0.0            1440.0  1990.000000\n",
       "max           0.0            1440.0  2064.000000"
      ]
     },
     "execution_count": 10,
     "metadata": {},
     "output_type": "execute_result"
    }
   ],
   "source": [
    "df_bmr = df_bmr[df_bmr['VeryActiveMinutes'] == 0]\n",
    "df_bmr.describe()[['TotalSteps', 'SedentaryMinutes', 'Calories']]"
   ]
  },
  {
   "cell_type": "code",
   "execution_count": 11,
   "metadata": {
    "colab": {
     "base_uri": "https://localhost:8080/"
    },
    "id": "m2OJDgU2VZtL",
    "outputId": "97490f49-2778-44f1-931e-598f5f639b4b"
   },
   "outputs": [
    {
     "data": {
      "text/plain": [
       "12"
      ]
     },
     "execution_count": 11,
     "metadata": {},
     "output_type": "execute_result"
    }
   ],
   "source": [
    "df_bmr.Id.nunique()"
   ]
  },
  {
   "cell_type": "markdown",
   "metadata": {
    "id": "tV-TRMT0VZtL"
   },
   "source": [
    "We have 68 datapoints, coming from 12 distinct users, that are suitable for investigating BMR values. [According to te Holland Barrett](https://www.hollandandbarrett.com/the-health-hub/weight-management/fitness/exercise/what-is-bmr/#:~:text=Men's%20BMR%20tends%20to%20be,the%20day%20at%20complete%20rest.&text=However%2C%20remember%20BMR%20is%20based,around%201550%20calories%20a%20day.), BMR value for men range from 1600 to 1800, while for women it's around 1550. Our BMR values range from 1347 to 2064 with a mean value 1804.5 and standart deviation 248.2. **Using those information, we can deduce for the datapoints used for BMR calculation, the datapoints come from men outnumber the datapoints come from women. However, we should also note down the fact that these values might vary depending ond the individual's physical characteristics.**\n",
    "\n",
    "--- "
   ]
  },
  {
   "cell_type": "markdown",
   "metadata": {
    "id": "5e1qS_m0VZtM"
   },
   "source": [
    "Let's go back to the our question \"Relationship between number of steps taken ('TotalSteps') and the amount of calories burned ('Calories')\". "
   ]
  },
  {
   "cell_type": "code",
   "execution_count": 12,
   "metadata": {
    "id": "5M2XXXOcVZtM"
   },
   "outputs": [],
   "source": [
    "X = df_dropped['TotalSteps'].values.reshape((-1, 1))\n",
    "y = df_dropped['Calories'].values"
   ]
  },
  {
   "cell_type": "code",
   "execution_count": 13,
   "metadata": {
    "colab": {
     "base_uri": "https://localhost:8080/"
    },
    "id": "iJypMbItVZtM",
    "outputId": "9e8eeda6-07c9-45d6-e223-751a91b36dff"
   },
   "outputs": [
    {
     "name": "stdout",
     "output_type": "stream",
     "text": [
      "Model intercept : 1689.1510000144017  \n",
      "Model coefficients : [0.08138959]\n"
     ]
    }
   ],
   "source": [
    "import numpy as np\n",
    "from sklearn.linear_model import LinearRegression\n",
    "\n",
    "model = LinearRegression()\n",
    "model.fit(X, y)\n",
    "\n",
    "print('Model intercept : {}  \\nModel coefficients : {}'.format(\n",
    "    model.intercept_, model.coef_))"
   ]
  },
  {
   "cell_type": "markdown",
   "metadata": {
    "id": "l8HqxfpLVZtM"
   },
   "source": [
    "We could have assumed the model intercept as the BMR value because it corresponds to the number of steps taken being equal to 0. However, it is less than the mean BMR value we investigated, which was 1804.5. That's the case because the data we fitted the linear regression line, include the datapoints that user wore the smartwatch for a certain period of day. Since BMR is calculated for a day, predicting that value using those datapoints is not the proper way."
   ]
  },
  {
   "cell_type": "code",
   "execution_count": 14,
   "metadata": {
    "id": "mvcLxCcEVZtM"
   },
   "outputs": [],
   "source": [
    "X_all_day = df_dropped[df_dropped.UsedAllDay]['TotalSteps'].values.reshape(\n",
    "    (-1, 1))\n",
    "y_all_day = df_dropped[df_dropped.UsedAllDay]['Calories'].values"
   ]
  },
  {
   "cell_type": "code",
   "execution_count": 15,
   "metadata": {
    "colab": {
     "base_uri": "https://localhost:8080/"
    },
    "id": "chZf2uqLVZtM",
    "outputId": "39882f38-fbcc-4d4f-c274-a832f45d339c"
   },
   "outputs": [
    {
     "name": "stdout",
     "output_type": "stream",
     "text": [
      "Model intercept : 1712.6848325918588  \n",
      "Model coefficients : [0.08111263]\n"
     ]
    }
   ],
   "source": [
    "model_all_day = LinearRegression()\n",
    "model_all_day.fit(X_all_day, y_all_day)\n",
    "\n",
    "print('Model intercept : {}  \\nModel coefficients : {}'.format(\n",
    "    model_all_day.intercept_, model_all_day.coef_))"
   ]
  },
  {
   "cell_type": "markdown",
   "metadata": {
    "id": "bTlOD8bdVZtM"
   },
   "source": [
    "As you can see, the intercept value is a little bit increased and got closer to the mean BMR value, which was 1804.5, we calculated before. However, it's still different than 1804.5. That might be because of the datapoints used come from a broader set of people. Let's check!"
   ]
  },
  {
   "cell_type": "code",
   "execution_count": 16,
   "metadata": {
    "colab": {
     "base_uri": "https://localhost:8080/"
    },
    "id": "yZB2YgndVZtM",
    "outputId": "4c47240f-48b1-4998-cf12-802222e8aa0b"
   },
   "outputs": [
    {
     "data": {
      "text/plain": [
       "28"
      ]
     },
     "execution_count": 16,
     "metadata": {},
     "output_type": "execute_result"
    }
   ],
   "source": [
    "df_dropped[df_dropped.UsedAllDay].Id.nunique()"
   ]
  },
  {
   "cell_type": "markdown",
   "metadata": {
    "id": "RJkyDHOZVZtM"
   },
   "source": [
    "Yes! The data of the linear regression line fitted come from 28 distinct people, while the data we used to calculate mean BMR value come from 12 distinct people. Obviously, that's one of the reasons why the intercept, which gives information about the prediction of BMR value, of the regression line we fitted is not equal to the mean BMR value calculated before. Another reason might be intensity of activities might not be directly proportional to the number of steps taken, as we observed a datapoint with 0 steps was taken but still some time was spent and that time is classified as VeryActiveMinutes. And of course, there are other reasons that requires more investigation. "
   ]
  },
  {
   "cell_type": "markdown",
   "metadata": {
    "id": "s_aJXTVyVZtM"
   },
   "source": [
    "#### Time spent  and distance taken for each type of activities"
   ]
  },
  {
   "cell_type": "markdown",
   "metadata": {
    "id": "5QT71237VZtM"
   },
   "source": [
    "There 4 different types of data for the time spent and correspondingly there are 3 different types of data for the distance taken\n",
    "\n",
    "- `VeryActiveMinutes` , `VeryActiveDistance`\n",
    "- `FairlyActiveMinutes` , `ModeratelyActiveDistance`\n",
    "- `VeryLightlyActiveMinutes` , `LightActiveDistance`\n",
    "- `SedentaryMinutes` , `SedentaryActiveDistance`\n",
    "\n",
    "Let's investigate the relationship for those corresponding columns.\n",
    "\n",
    "We can start by fitting 4 different regression lines for each type of activities."
   ]
  },
  {
   "cell_type": "code",
   "execution_count": 17,
   "metadata": {
    "colab": {
     "base_uri": "https://localhost:8080/",
     "height": 0
    },
    "id": "yxzzZb-yVZtN",
    "outputId": "651115f9-7eb6-4c75-fda9-0c9ff3e90620"
   },
   "outputs": [
    {
     "data": {
      "image/png": "[encoded data removed]",
      "text/plain": [
       "<Figure size 1440x360 with 4 Axes>"
      ]
     },
     "metadata": {
      "needs_background": "light"
     },
     "output_type": "display_data"
    }
   ],
   "source": [
    "fig, axes = plt.subplots(1, 4, figsize=(20, 5), sharey=True, sharex=True)\n",
    "\n",
    "sns.regplot(data=df_dropped,\n",
    "            x='VeryActiveMinutes',\n",
    "            y='VeryActiveDistance',\n",
    "            ax=axes[0])\n",
    "\n",
    "sns.regplot(data=df_dropped,\n",
    "            x='FairlyActiveMinutes',\n",
    "            y='ModeratelyActiveDistance',\n",
    "            ax=axes[1])\n",
    "\n",
    "sns.regplot(data=df_dropped,\n",
    "            x='LightlyActiveMinutes',\n",
    "            y='LightActiveDistance',\n",
    "            ax=axes[2])\n",
    "\n",
    "sns.regplot(data=df_dropped,\n",
    "            x='SedentaryMinutes',\n",
    "            y='SedentaryActiveDistance',\n",
    "            ax=axes[3]);"
   ]
  },
  {
   "cell_type": "markdown",
   "metadata": {
    "id": "hCKZ5zOFVZtN"
   },
   "source": [
    "Seems like the distance taken for a certain amount of time is greater as the type of the activity gets more active. To be sure, we can fit a linear regressor for each type of activity and then compare the coefficients of the linear regression lines fitted."
   ]
  },
  {
   "cell_type": "code",
   "execution_count": 18,
   "metadata": {
    "id": "HF9oFMB9VZtN"
   },
   "outputs": [],
   "source": [
    "def get_model_params(df, x, y):\n",
    "    X = df[x].values.reshape((-1, 1))\n",
    "    y = df[y].values\n",
    "    model = LinearRegression()\n",
    "    model.fit(X, y)\n",
    "    return (model.intercept_, model.coef_)"
   ]
  },
  {
   "cell_type": "code",
   "execution_count": 19,
   "metadata": {
    "colab": {
     "base_uri": "https://localhost:8080/"
    },
    "id": "udenhFgHVZtN",
    "outputId": "fab79e70-d627-44ba-d13b-e8cd63667a1a"
   },
   "outputs": [
    {
     "name": "stdout",
     "output_type": "stream",
     "text": [
      "VeryActiveDistance/VeryActiveMinutes : \n",
      " 0.067\n",
      "ModeratelyActiveDistance/FairlyActiveMinutes : \n",
      " 0.042\n",
      "LightActiveDistance/LightlyActiveMinutes : \n",
      " 0.017\n",
      "SedentaryActiveDistance/SedentaryMinutes : \n",
      " 0.000\n"
     ]
    }
   ],
   "source": [
    "time_spent_types = [\n",
    "    'VeryActiveMinutes', 'FairlyActiveMinutes', 'LightlyActiveMinutes',\n",
    "    'SedentaryMinutes'\n",
    "]\n",
    "distance_taken_types = [\n",
    "    'VeryActiveDistance', 'ModeratelyActiveDistance', 'LightActiveDistance',\n",
    "    'SedentaryActiveDistance'\n",
    "]\n",
    "for t, d in zip(time_spent_types, distance_taken_types):\n",
    "    intercept, coef = get_model_params(df_dropped, t, d)\n",
    "    print('{}/{} : \\n {:.3f}'.format(d, t, coef[0]))"
   ]
  },
  {
   "cell_type": "markdown",
   "metadata": {
    "id": "KHZJhsMYVZtN"
   },
   "source": [
    "Yes! The average speed for VeryActiveMinutes is greater than FairlyActiveMinutes and average speed for FairlyActiveMinutes is greater than LightlyActiveMinutes and so on. **Therefore, there is a correletion between type of the activity and average speed for that category. If we had proven the opposite, we would have supported one of our previous claims: 'intensity of activities might not be directly proportional to the number of steps taken', because obviously number of steps taken and distance taken are correlated.**"
   ]
  },
  {
   "cell_type": "markdown",
   "metadata": {
    "id": "mjgQxJhEVZtN"
   },
   "source": [
    "Actually, that previous claim can be still investigated. The method would be\n",
    "1. Classifying days by average speed of the day as VeryActiveDay, FairlyActiveDay, LightlyActiveDay and SedentaryDay. \n",
    "2. Then, investigating the relationship between total number of steps taken in a day and activity type of a day.\n",
    "    - it would be better to use the days that smartwatch was worn all day. That way the amount of time for the number of steps taken would same for all datapoints."
   ]
  },
  {
   "cell_type": "markdown",
   "metadata": {
    "id": "t5ykR3bBVZtN"
   },
   "source": [
    "However, we won't investigate that claim since we don't need it to justify any of our claims. In a way it's out of the scope of our investigation for now."
   ]
  },
  {
   "cell_type": "markdown",
   "metadata": {
    "id": "HQe-isR8VZtN"
   },
   "source": [
    "#### Total sedentary time on the weekdays and weekends"
   ]
  },
  {
   "cell_type": "markdown",
   "metadata": {
    "id": "kyEfmds5VZtN"
   },
   "source": [
    "We can presume that people are more tend to be sedentary on the weekdays, because  lots of jobs require people to work on weekdays and by sitting at their computers. Let's see if that presumption is correct. "
   ]
  },
  {
   "cell_type": "code",
   "execution_count": 20,
   "metadata": {
    "colab": {
     "base_uri": "https://localhost:8080/",
     "height": 0
    },
    "id": "p49FnmG0VZtN",
    "outputId": "50cc625c-08a6-495c-9134-8e6cc48e9360"
   },
   "outputs": [
    {
     "data": {
      "image/png": "[encoded data removed]",
      "text/plain": [
       "<Figure size 432x288 with 1 Axes>"
      ]
     },
     "metadata": {
      "needs_background": "light"
     },
     "output_type": "display_data"
    }
   ],
   "source": [
    "# histogram plot of sedentary minute logs\n",
    "sns.histplot(data=df_dropped, x='SedentaryMinutes');"
   ]
  },
  {
   "cell_type": "markdown",
   "metadata": {
    "id": "fpPZ01JoVZtO"
   },
   "source": [
    "Let's plot the sedentary minute logs for weekdays and weekends"
   ]
  },
  {
   "cell_type": "code",
   "execution_count": 21,
   "metadata": {
    "colab": {
     "base_uri": "https://localhost:8080/",
     "height": 0
    },
    "id": "BpPJHInUVZtO",
    "outputId": "27b031eb-4de8-456a-b712-3bbf38ff5004"
   },
   "outputs": [
    {
     "data": {
      "image/png": "[encoded data removed]",
      "text/plain": [
       "<Figure size 720x360 with 2 Axes>"
      ]
     },
     "metadata": {
      "needs_background": "light"
     },
     "output_type": "display_data"
    }
   ],
   "source": [
    "g = sns.FacetGrid(df_dropped, col=\"IsWeekend\", height=5, aspect=1)\n",
    "g.map(sns.histplot, \"SedentaryMinutes\", kde=True,\n",
    "      stat='density');"
   ]
  },
  {
   "cell_type": "markdown",
   "metadata": {
    "id": "roOdxt4jVZtO"
   },
   "source": [
    "It seems like there are two groups of logs, with two different peaks , one around 600 SedentaryMinutes and the other around 1250 SedentaryMinutes. We can create two groups using that information and classify users accordingly."
   ]
  },
  {
   "cell_type": "markdown",
   "metadata": {
    "id": "hkplWn8oVZtO"
   },
   "source": [
    "Let's investigate the average sedentary minutes per user with barplot."
   ]
  },
  {
   "cell_type": "code",
   "execution_count": 22,
   "metadata": {
    "id": "Z-s3HJVOVZtO"
   },
   "outputs": [],
   "source": [
    "avg_sedentary_minutes = pd.DataFrame(\n",
    "    df_dropped.groupby('Id').aggregate(np.mean)['SedentaryMinutes'])"
   ]
  },
  {
   "cell_type": "code",
   "execution_count": 23,
   "metadata": {
    "colab": {
     "base_uri": "https://localhost:8080/",
     "height": 0
    },
    "id": "JM8ylAGiVZtO",
    "outputId": "01674ce8-772c-4ba3-e5cf-ba1602925e7e"
   },
   "outputs": [
    {
     "data": {
      "image/png": "[encoded data removed]",
      "text/plain": [
       "<Figure size 432x288 with 1 Axes>"
      ]
     },
     "metadata": {
      "needs_background": "light"
     },
     "output_type": "display_data"
    }
   ],
   "source": [
    "sns.barplot(data=avg_sedentary_minutes,\n",
    "            x=avg_sedentary_minutes.index,\n",
    "            y='SedentaryMinutes',\n",
    "            order=avg_sedentary_minutes.sort_values('SedentaryMinutes').index)\n",
    "plt.xticks(rotation=70);"
   ]
  },
  {
   "cell_type": "markdown",
   "metadata": {
    "id": "41S6NdW2VZtO"
   },
   "source": [
    "Clearly there is a jump after the user with Id: '7086361926'. This point would be nice to classify users into two groups as LessSedentary and MoreSedentary. Also, total average would be nice divide users into two groups. Let's check the total average and see if that criterion correspons to the criterion that we obtained by barplot of individual averages."
   ]
  },
  {
   "cell_type": "code",
   "execution_count": 24,
   "metadata": {
    "colab": {
     "base_uri": "https://localhost:8080/"
    },
    "id": "u1HkQJR4VZtO",
    "outputId": "d31ad7ba-d350-4bdd-e130-3d9b7cb27574"
   },
   "outputs": [
    {
     "data": {
      "text/plain": [
       "989.292735042735"
      ]
     },
     "execution_count": 24,
     "metadata": {},
     "output_type": "execute_result"
    }
   ],
   "source": [
    "total_average = df_dropped['SedentaryMinutes'].aggregate(np.mean)\n",
    "total_average"
   ]
  },
  {
   "cell_type": "markdown",
   "metadata": {
    "id": "9xnNMn9_VZtO"
   },
   "source": [
    "Yes! Dividing to users into two groups by the average would give the same result. Let's do it by adding a column."
   ]
  },
  {
   "cell_type": "code",
   "execution_count": 25,
   "metadata": {
    "colab": {
     "base_uri": "https://localhost:8080/",
     "height": 0
    },
    "id": "VwyW5D1WVZtO",
    "outputId": "640330cf-90fd-4fca-ac84-64dfb77f43fd"
   },
   "outputs": [
    {
     "data": {
      "text/html": [
       "<div>\n",
       "<style scoped>\n",
       "    .dataframe tbody tr th:only-of-type {\n",
       "        vertical-align: middle;\n",
       "    }\n",
       "\n",
       "    .dataframe tbody tr th {\n",
       "        vertical-align: top;\n",
       "    }\n",
       "\n",
       "    .dataframe thead th {\n",
       "        text-align: right;\n",
       "    }\n",
       "</style>\n",
       "<table border=\"1\" class=\"dataframe\">\n",
       "  <thead>\n",
       "    <tr style=\"text-align: right;\">\n",
       "      <th></th>\n",
       "      <th>Id</th>\n",
       "      <th>ActivityDate</th>\n",
       "      <th>TotalSteps</th>\n",
       "      <th>TotalDistance</th>\n",
       "      <th>TrackerDistance</th>\n",
       "      <th>LoggedActivitiesDistance</th>\n",
       "      <th>VeryActiveDistance</th>\n",
       "      <th>ModeratelyActiveDistance</th>\n",
       "      <th>LightActiveDistance</th>\n",
       "      <th>SedentaryActiveDistance</th>\n",
       "      <th>VeryActiveMinutes</th>\n",
       "      <th>FairlyActiveMinutes</th>\n",
       "      <th>LightlyActiveMinutes</th>\n",
       "      <th>SedentaryMinutes</th>\n",
       "      <th>Calories</th>\n",
       "      <th>IsWeekend</th>\n",
       "      <th>UsedAllDay</th>\n",
       "      <th>MoreSedentary</th>\n",
       "    </tr>\n",
       "  </thead>\n",
       "  <tbody>\n",
       "    <tr>\n",
       "      <th>0</th>\n",
       "      <td>1503960366</td>\n",
       "      <td>2016-04-12</td>\n",
       "      <td>13162</td>\n",
       "      <td>8.50</td>\n",
       "      <td>8.50</td>\n",
       "      <td>0.0</td>\n",
       "      <td>1.88</td>\n",
       "      <td>0.55</td>\n",
       "      <td>6.06</td>\n",
       "      <td>0.0</td>\n",
       "      <td>25</td>\n",
       "      <td>13</td>\n",
       "      <td>328</td>\n",
       "      <td>728</td>\n",
       "      <td>1985</td>\n",
       "      <td>False</td>\n",
       "      <td>False</td>\n",
       "      <td>False</td>\n",
       "    </tr>\n",
       "    <tr>\n",
       "      <th>1</th>\n",
       "      <td>1503960366</td>\n",
       "      <td>2016-04-13</td>\n",
       "      <td>10735</td>\n",
       "      <td>6.97</td>\n",
       "      <td>6.97</td>\n",
       "      <td>0.0</td>\n",
       "      <td>1.57</td>\n",
       "      <td>0.69</td>\n",
       "      <td>4.71</td>\n",
       "      <td>0.0</td>\n",
       "      <td>21</td>\n",
       "      <td>19</td>\n",
       "      <td>217</td>\n",
       "      <td>776</td>\n",
       "      <td>1797</td>\n",
       "      <td>False</td>\n",
       "      <td>False</td>\n",
       "      <td>False</td>\n",
       "    </tr>\n",
       "    <tr>\n",
       "      <th>2</th>\n",
       "      <td>1503960366</td>\n",
       "      <td>2016-04-14</td>\n",
       "      <td>10460</td>\n",
       "      <td>6.74</td>\n",
       "      <td>6.74</td>\n",
       "      <td>0.0</td>\n",
       "      <td>2.44</td>\n",
       "      <td>0.40</td>\n",
       "      <td>3.91</td>\n",
       "      <td>0.0</td>\n",
       "      <td>30</td>\n",
       "      <td>11</td>\n",
       "      <td>181</td>\n",
       "      <td>1218</td>\n",
       "      <td>1776</td>\n",
       "      <td>False</td>\n",
       "      <td>True</td>\n",
       "      <td>False</td>\n",
       "    </tr>\n",
       "    <tr>\n",
       "      <th>3</th>\n",
       "      <td>1503960366</td>\n",
       "      <td>2016-04-15</td>\n",
       "      <td>9762</td>\n",
       "      <td>6.28</td>\n",
       "      <td>6.28</td>\n",
       "      <td>0.0</td>\n",
       "      <td>2.14</td>\n",
       "      <td>1.26</td>\n",
       "      <td>2.83</td>\n",
       "      <td>0.0</td>\n",
       "      <td>29</td>\n",
       "      <td>34</td>\n",
       "      <td>209</td>\n",
       "      <td>726</td>\n",
       "      <td>1745</td>\n",
       "      <td>False</td>\n",
       "      <td>False</td>\n",
       "      <td>False</td>\n",
       "    </tr>\n",
       "    <tr>\n",
       "      <th>4</th>\n",
       "      <td>1503960366</td>\n",
       "      <td>2016-04-16</td>\n",
       "      <td>12669</td>\n",
       "      <td>8.16</td>\n",
       "      <td>8.16</td>\n",
       "      <td>0.0</td>\n",
       "      <td>2.71</td>\n",
       "      <td>0.41</td>\n",
       "      <td>5.04</td>\n",
       "      <td>0.0</td>\n",
       "      <td>36</td>\n",
       "      <td>10</td>\n",
       "      <td>221</td>\n",
       "      <td>773</td>\n",
       "      <td>1863</td>\n",
       "      <td>True</td>\n",
       "      <td>False</td>\n",
       "      <td>False</td>\n",
       "    </tr>\n",
       "  </tbody>\n",
       "</table>\n",
       "</div>"
      ],
      "text/plain": [
       "           Id ActivityDate  TotalSteps  TotalDistance  TrackerDistance  \\\n",
       "0  1503960366   2016-04-12       13162           8.50             8.50   \n",
       "1  1503960366   2016-04-13       10735           6.97             6.97   \n",
       "2  1503960366   2016-04-14       10460           6.74             6.74   \n",
       "3  1503960366   2016-04-15        9762           6.28             6.28   \n",
       "4  1503960366   2016-04-16       12669           8.16             8.16   \n",
       "\n",
       "   LoggedActivitiesDistance  VeryActiveDistance  ModeratelyActiveDistance  \\\n",
       "0                       0.0                1.88                      0.55   \n",
       "1                       0.0                1.57                      0.69   \n",
       "2                       0.0                2.44                      0.40   \n",
       "3                       0.0                2.14                      1.26   \n",
       "4                       0.0                2.71                      0.41   \n",
       "\n",
       "   LightActiveDistance  SedentaryActiveDistance  VeryActiveMinutes  \\\n",
       "0                 6.06                      0.0                 25   \n",
       "1                 4.71                      0.0                 21   \n",
       "2                 3.91                      0.0                 30   \n",
       "3                 2.83                      0.0                 29   \n",
       "4                 5.04                      0.0                 36   \n",
       "\n",
       "   FairlyActiveMinutes  LightlyActiveMinutes  SedentaryMinutes  Calories  \\\n",
       "0                   13                   328               728      1985   \n",
       "1                   19                   217               776      1797   \n",
       "2                   11                   181              1218      1776   \n",
       "3                   34                   209               726      1745   \n",
       "4                   10                   221               773      1863   \n",
       "\n",
       "   IsWeekend  UsedAllDay  MoreSedentary  \n",
       "0      False       False          False  \n",
       "1      False       False          False  \n",
       "2      False        True          False  \n",
       "3      False       False          False  \n",
       "4       True       False          False  "
      ]
     },
     "execution_count": 25,
     "metadata": {},
     "output_type": "execute_result"
    }
   ],
   "source": [
    "df_dropped['MoreSedentary'] = df_dropped.Id.map(\n",
    "    (avg_sedentary_minutes > total_average)['SedentaryMinutes'])\n",
    "df_dropped.head()"
   ]
  },
  {
   "cell_type": "markdown",
   "metadata": {
    "id": "uM_VugfgVZtO"
   },
   "source": [
    "Let's draw boxplot of those 2 groups to see the difference clearly."
   ]
  },
  {
   "cell_type": "code",
   "execution_count": 26,
   "metadata": {
    "colab": {
     "base_uri": "https://localhost:8080/",
     "height": 0
    },
    "id": "oAWCaKqFVZtO",
    "outputId": "dbf5f9d9-02d3-4b68-ac97-0072707263ae"
   },
   "outputs": [
    {
     "data": {
      "text/plain": [
       "<AxesSubplot:xlabel='MoreSedentary', ylabel='SedentaryMinutes'>"
      ]
     },
     "execution_count": 26,
     "metadata": {},
     "output_type": "execute_result"
    },
    {
     "data": {
      "image/png": "[encoded data removed]",
      "text/plain": [
       "<Figure size 432x288 with 1 Axes>"
      ]
     },
     "metadata": {
      "needs_background": "light"
     },
     "output_type": "display_data"
    }
   ],
   "source": [
    "sns.boxplot(x='MoreSedentary', y='SedentaryMinutes', data=df_dropped)"
   ]
  },
  {
   "cell_type": "markdown",
   "metadata": {
    "id": "yr35kMM1VZtO"
   },
   "source": [
    "Let's see the behaviour of those 2 groups on the weekdays and weekends."
   ]
  },
  {
   "cell_type": "code",
   "execution_count": 27,
   "metadata": {
    "colab": {
     "base_uri": "https://localhost:8080/",
     "height": 0
    },
    "id": "i-Wxfk92VZtP",
    "outputId": "edcf79d4-6f46-4006-8c6d-4d13f9af56ae"
   },
   "outputs": [
    {
     "data": {
      "text/plain": [
       "<AxesSubplot:xlabel='MoreSedentary', ylabel='SedentaryMinutes'>"
      ]
     },
     "execution_count": 27,
     "metadata": {},
     "output_type": "execute_result"
    },
    {
     "data": {
      "image/png": "[encoded data removed]",
      "text/plain": [
       "<Figure size 432x288 with 1 Axes>"
      ]
     },
     "metadata": {
      "needs_background": "light"
     },
     "output_type": "display_data"
    }
   ],
   "source": [
    "sns.boxplot(x='MoreSedentary',\n",
    "            y='SedentaryMinutes',\n",
    "            hue='IsWeekend',\n",
    "            data=df_dropped)"
   ]
  },
  {
   "cell_type": "markdown",
   "metadata": {
    "id": "dw_xJEJqVZtP"
   },
   "source": [
    "It seems like for less sedentary group, those users tend to be more sedentary in the weekdays. While the difference for weekdays and weekend for more sedentary group is not that remarkable."
   ]
  },
  {
   "cell_type": "markdown",
   "metadata": {
    "id": "boFuT6SvVZtP"
   },
   "source": [
    "Let's draw the distribution of sedentary minutes logs for less sedentary and more sedentary groups."
   ]
  },
  {
   "cell_type": "markdown",
   "metadata": {
    "id": "jTD-xJGhVZtP"
   },
   "source": [
    "- Less sedentary group"
   ]
  },
  {
   "cell_type": "code",
   "execution_count": 28,
   "metadata": {
    "colab": {
     "base_uri": "https://localhost:8080/",
     "height": 0
    },
    "id": "CwnATXfaVZtP",
    "outputId": "532b7797-e925-4dc8-8d29-d72cc09f1ad8"
   },
   "outputs": [
    {
     "data": {
      "image/png": "[encoded data removed]",
      "text/plain": [
       "<Figure size 720x360 with 2 Axes>"
      ]
     },
     "metadata": {
      "needs_background": "light"
     },
     "output_type": "display_data"
    }
   ],
   "source": [
    "g = sns.FacetGrid(df_dropped[df_dropped['MoreSedentary'] == 0],\n",
    "                  col=\"IsWeekend\",\n",
    "                  height=5,\n",
    "                  aspect=1)\n",
    "g.map(sns.histplot, \"SedentaryMinutes\", kde=True, stat='density');"
   ]
  },
  {
   "cell_type": "markdown",
   "metadata": {
    "id": "xn3YaJrpVZtP"
   },
   "source": [
    "- More Sedentary"
   ]
  },
  {
   "cell_type": "code",
   "execution_count": 29,
   "metadata": {
    "colab": {
     "base_uri": "https://localhost:8080/",
     "height": 0
    },
    "id": "S3VTze6NVZtP",
    "outputId": "734423e5-5c7b-44df-a1d6-a5173fd2c3a1"
   },
   "outputs": [
    {
     "data": {
      "image/png": "[encoded data removed]",
      "text/plain": [
       "<Figure size 720x360 with 2 Axes>"
      ]
     },
     "metadata": {
      "needs_background": "light"
     },
     "output_type": "display_data"
    }
   ],
   "source": [
    "g = sns.FacetGrid(df_dropped[df_dropped['MoreSedentary'] == 1],\n",
    "                  col=\"IsWeekend\",\n",
    "                  height=5,\n",
    "                  aspect=1)\n",
    "g.map(sns.histplot, \"SedentaryMinutes\", kde=True, stat='density');"
   ]
  },
  {
   "cell_type": "markdown",
   "metadata": {
    "id": "y3iTleo-VZtP"
   },
   "source": [
    "Again, for the less sedentary group, the distribution is a bit skewed to the lower numbers. Therefore, for this group our presumption in the beggining, that people are tend to be more sedentary in the weekdays, holds. However, for the more sedentary group, there is not a remarkable difference between the distribution for weekdays and weekends."
   ]
  },
  {
   "cell_type": "markdown",
   "metadata": {
    "id": "g-dOhjMhVZtP"
   },
   "source": [
    "#### Sleeping habits of less sedentary and more sedentary groups."
   ]
  },
  {
   "cell_type": "markdown",
   "metadata": {
    "id": "HyUKRELkVZtP"
   },
   "source": [
    "We can expect having a different sleeping habits for less sedentary and more sedentary groups. Because, obviously their activeness levels are different."
   ]
  },
  {
   "cell_type": "markdown",
   "metadata": {
    "id": "531pn2utVZtP"
   },
   "source": [
    "Let's add MoreSedentary column to df_sleep as well."
   ]
  },
  {
   "cell_type": "code",
   "execution_count": 30,
   "metadata": {
    "colab": {
     "base_uri": "https://localhost:8080/",
     "height": 0
    },
    "id": "v2wgtvefVZtP",
    "outputId": "90984749-0866-4eaa-e34e-bb0107db8f4d"
   },
   "outputs": [
    {
     "data": {
      "text/html": [
       "<div>\n",
       "<style scoped>\n",
       "    .dataframe tbody tr th:only-of-type {\n",
       "        vertical-align: middle;\n",
       "    }\n",
       "\n",
       "    .dataframe tbody tr th {\n",
       "        vertical-align: top;\n",
       "    }\n",
       "\n",
       "    .dataframe thead th {\n",
       "        text-align: right;\n",
       "    }\n",
       "</style>\n",
       "<table border=\"1\" class=\"dataframe\">\n",
       "  <thead>\n",
       "    <tr style=\"text-align: right;\">\n",
       "      <th></th>\n",
       "      <th>Id</th>\n",
       "      <th>SleepDay</th>\n",
       "      <th>TotalSleepRecords</th>\n",
       "      <th>TotalMinutesAsleep</th>\n",
       "      <th>TotalTimeInBed</th>\n",
       "      <th>IsWeekend</th>\n",
       "      <th>MoreSedentary</th>\n",
       "    </tr>\n",
       "  </thead>\n",
       "  <tbody>\n",
       "    <tr>\n",
       "      <th>0</th>\n",
       "      <td>1503960366</td>\n",
       "      <td>2016-04-12</td>\n",
       "      <td>1</td>\n",
       "      <td>327</td>\n",
       "      <td>346</td>\n",
       "      <td>False</td>\n",
       "      <td>False</td>\n",
       "    </tr>\n",
       "    <tr>\n",
       "      <th>1</th>\n",
       "      <td>1503960366</td>\n",
       "      <td>2016-04-13</td>\n",
       "      <td>2</td>\n",
       "      <td>384</td>\n",
       "      <td>407</td>\n",
       "      <td>False</td>\n",
       "      <td>False</td>\n",
       "    </tr>\n",
       "    <tr>\n",
       "      <th>2</th>\n",
       "      <td>1503960366</td>\n",
       "      <td>2016-04-15</td>\n",
       "      <td>1</td>\n",
       "      <td>412</td>\n",
       "      <td>442</td>\n",
       "      <td>False</td>\n",
       "      <td>False</td>\n",
       "    </tr>\n",
       "    <tr>\n",
       "      <th>3</th>\n",
       "      <td>1503960366</td>\n",
       "      <td>2016-04-16</td>\n",
       "      <td>2</td>\n",
       "      <td>340</td>\n",
       "      <td>367</td>\n",
       "      <td>True</td>\n",
       "      <td>False</td>\n",
       "    </tr>\n",
       "    <tr>\n",
       "      <th>4</th>\n",
       "      <td>1503960366</td>\n",
       "      <td>2016-04-17</td>\n",
       "      <td>1</td>\n",
       "      <td>700</td>\n",
       "      <td>712</td>\n",
       "      <td>True</td>\n",
       "      <td>False</td>\n",
       "    </tr>\n",
       "  </tbody>\n",
       "</table>\n",
       "</div>"
      ],
      "text/plain": [
       "           Id   SleepDay  TotalSleepRecords  TotalMinutesAsleep  \\\n",
       "0  1503960366 2016-04-12                  1                 327   \n",
       "1  1503960366 2016-04-13                  2                 384   \n",
       "2  1503960366 2016-04-15                  1                 412   \n",
       "3  1503960366 2016-04-16                  2                 340   \n",
       "4  1503960366 2016-04-17                  1                 700   \n",
       "\n",
       "   TotalTimeInBed  IsWeekend  MoreSedentary  \n",
       "0             346      False          False  \n",
       "1             407      False          False  \n",
       "2             442      False          False  \n",
       "3             367       True          False  \n",
       "4             712       True          False  "
      ]
     },
     "execution_count": 30,
     "metadata": {},
     "output_type": "execute_result"
    }
   ],
   "source": [
    "df_sleep['MoreSedentary'] = df_sleep.Id.map(\n",
    "    (avg_sedentary_minutes > total_average)['SedentaryMinutes'])\n",
    "df_sleep.head()"
   ]
  },
  {
   "cell_type": "markdown",
   "metadata": {
    "id": "j_jaykvyVZtP"
   },
   "source": [
    "Then, we can see TotalMinuteAsleep for two groups of being sedentary."
   ]
  },
  {
   "cell_type": "code",
   "execution_count": 31,
   "metadata": {
    "colab": {
     "base_uri": "https://localhost:8080/",
     "height": 0
    },
    "id": "ZXYceqwGVZtP",
    "outputId": "85836be4-3818-40e2-fab1-f1f28ca1ea6f"
   },
   "outputs": [
    {
     "data": {
      "image/png": "[encoded data removed]",
      "text/plain": [
       "<Figure size 432x288 with 1 Axes>"
      ]
     },
     "metadata": {
      "needs_background": "light"
     },
     "output_type": "display_data"
    }
   ],
   "source": [
    "sns.boxplot(x=\"MoreSedentary\", y=\"TotalMinutesAsleep\", data=df_sleep);"
   ]
  },
  {
   "cell_type": "markdown",
   "metadata": {
    "id": "8N2u-JiIVZtQ"
   },
   "source": [
    "Seems like less sedentary group sleeps more on average. Makes sense!"
   ]
  },
  {
   "cell_type": "markdown",
   "metadata": {},
   "source": [
    "---\n",
    "## Sleep Analysis <a name=\"sleep\"></a>\n",
    "\n",
    "In order to better understand sleep habits of fitbit users we will divide them in 4 groups based on [this url](https://www.sleepfoundation.org/how-sleep-works/how-much-sleep-do-we-really-need#:~:text=National%20Sleep%20Foundation%20guidelines1,to%208%20hours%20per%20night) which defines the optimal amount of sleep between 7-9 hours.\n",
    "- Excess > 9 hours \n",
    "- Good 7 - 9 hours\n",
    "- Deprived < 7\n",
    "\n",
    "\n"
   ]
  },
  {
   "cell_type": "code",
   "execution_count": 32,
   "metadata": {},
   "outputs": [],
   "source": [
    "sleepDay = dataframes['sleepDay_merged']\n",
    "sleepDay['hours'] = sleepDay['TotalMinutesAsleep'] / 60"
   ]
  },
  {
   "cell_type": "code",
   "execution_count": 33,
   "metadata": {},
   "outputs": [],
   "source": [
    "bins = [sleepDay.hours.min(), 7, 9, sleepDay.hours.max()]\n",
    "\n",
    "labels = ['deprived', 'good', 'excess']\n",
    "\n",
    "sleepDay['SleepBins'] = pd.cut(\n",
    "    sleepDay['hours'],\n",
    "    bins=bins,\n",
    "    labels=labels,\n",
    "    include_lowest=True,\n",
    "    right=False,\n",
    ")"
   ]
  },
  {
   "cell_type": "code",
   "execution_count": 34,
   "metadata": {},
   "outputs": [
    {
     "data": {
      "image/png": "[encoded data removed]",
      "text/plain": [
       "<Figure size 432x288 with 1 Axes>"
      ]
     },
     "metadata": {
      "needs_background": "light"
     },
     "output_type": "display_data"
    }
   ],
   "source": [
    "sns.countplot(data=sleepDay, x='SleepBins');"
   ]
  },
  {
   "cell_type": "markdown",
   "metadata": {},
   "source": [
    "From our binning we can see that the amount of people which have the reccomended amount of sleep is very similar to the amount of people which are sleep deprived, on the other hand, excess sleep seems to be less common.\n",
    "\n",
    "One would not expect the same amount of sleep deprived people as those who get enough sleep. Therefore we will verify if there are any outliers. "
   ]
  },
  {
   "cell_type": "markdown",
   "metadata": {},
   "source": [
    "### Outliers"
   ]
  },
  {
   "cell_type": "code",
   "execution_count": 35,
   "metadata": {},
   "outputs": [
    {
     "data": {
      "image/png": "[encoded data removed]",
      "text/plain": [
       "<Figure size 360x360 with 1 Axes>"
      ]
     },
     "metadata": {
      "needs_background": "light"
     },
     "output_type": "display_data"
    }
   ],
   "source": [
    "sns.displot(data=sleepDay, x='hours');"
   ]
  },
  {
   "cell_type": "markdown",
   "metadata": {},
   "source": [
    "- It appears that we have a peak of records which indicate 3 or less hours of sleep. This is unusual in what looks like an otherwise normal distribution. \n",
    "\n",
    "- For the next steps we will exclude those which have less than 3 hours of sleep, so we will be looking at \"normal\" values. "
   ]
  },
  {
   "cell_type": "code",
   "execution_count": 36,
   "metadata": {},
   "outputs": [
    {
     "data": {
      "image/png": "[encoded data removed]",
      "text/plain": [
       "<Figure size 432x288 with 1 Axes>"
      ]
     },
     "metadata": {
      "needs_background": "light"
     },
     "output_type": "display_data"
    }
   ],
   "source": [
    "sleepDay = sleepDay[sleepDay['hours'] > 3].copy()\n",
    "sns.countplot(data=sleepDay, x='SleepBins');"
   ]
  },
  {
   "cell_type": "markdown",
   "metadata": {},
   "source": [
    "### Collecting the IDs of those which sleep the best\n",
    "\n",
    "- in order to find those with the best sleep habits, we need to see how many nights with enough sleep they have over all the recorded nights. \n",
    "- we will perform some grouping and then pivot the resultin table to gather the required data"
   ]
  },
  {
   "cell_type": "code",
   "execution_count": 37,
   "metadata": {},
   "outputs": [],
   "source": [
    "sleepPivot = sleepDay.groupby(['Id', 'SleepBins']).agg(\n",
    "    sleepCount=('SleepBins', 'count')).reset_index().pivot(index='Id',\n",
    "                                                           columns='SleepBins',\n",
    "                                                           values='sleepCount')\n",
    "sleepPivot['goodRatio'] = sleepPivot['good'] / sleepPivot[[\n",
    "    'deprived', 'good', 'excess'\n",
    "]].sum(axis=1)\n",
    "\n",
    "sleepEnhanced = sleepDay.merge(sleepPivot, on='Id')\n",
    "sleepEnhanced['goodSleeper'] = sleepEnhanced['goodRatio'] >= 0.6"
   ]
  },
  {
   "cell_type": "code",
   "execution_count": 38,
   "metadata": {},
   "outputs": [
    {
     "data": {
      "text/plain": [
       "False    16\n",
       "True      5\n",
       "Name: goodSleeper, dtype: int64"
      ]
     },
     "execution_count": 38,
     "metadata": {},
     "output_type": "execute_result"
    }
   ],
   "source": [
    "sleepEnhanced.drop_duplicates(subset=['Id']).goodSleeper.value_counts()"
   ]
  },
  {
   "cell_type": "markdown",
   "metadata": {},
   "source": [
    "---\n",
    "This concludes our first part of the analysis. \n",
    "We were able to:\n",
    "- bin users based on the amount of sleep recorded\n",
    "- detect and exclude outliers with extremely low times of sleep\n",
    "- find IDs of the users which get enough sleep the most\n",
    "\n",
    "The last step will allow us to further analyze the data at our disposal"
   ]
  },
  {
   "cell_type": "markdown",
   "metadata": {},
   "source": [
    "## What are the activity habits of those who sleep the best and the worst?\n",
    "- we will start our analyses by merging the previously obtained dataset with `dailyActivity_merged`\n",
    "\n",
    "### Activity correlation"
   ]
  },
  {
   "cell_type": "code",
   "execution_count": 39,
   "metadata": {},
   "outputs": [],
   "source": [
    "sleepEnhanced['Date'] = pd.to_datetime(sleepEnhanced['SleepDay']).dt.date\n",
    "dailyActivity = dataframes['dailyActivity_merged']\n",
    "dailyActivity['Date'] = pd.to_datetime(dailyActivity['ActivityDate']).dt.date\n",
    "dailyActivity['ActiveMinutes'] = dailyActivity[[\n",
    "    'VeryActiveMinutes', 'FairlyActiveMinutes', 'LightlyActiveMinutes'\n",
    "]].sum(axis=1)"
   ]
  },
  {
   "cell_type": "code",
   "execution_count": 40,
   "metadata": {},
   "outputs": [],
   "source": [
    "sleepEnhanced = sleepEnhanced.merge(\n",
    "    dataframes['dailyActivity_merged'],\n",
    "    on=['Id', 'Date'],\n",
    ")\n",
    "sleepEnhanced = sleepEnhanced[[\n",
    "    'Id', 'Date', 'TotalMinutesAsleep', 'TotalTimeInBed', 'hours', 'SleepBins',\n",
    "    'goodSleeper', 'TotalSteps', 'TotalDistance', 'ActiveMinutes',\n",
    "    'SedentaryMinutes', 'Calories'\n",
    "]]"
   ]
  },
  {
   "cell_type": "code",
   "execution_count": 41,
   "metadata": {},
   "outputs": [
    {
     "data": {
      "image/png": "[encoded data removed]",
      "text/plain": [
       "<Figure size 432x288 with 1 Axes>"
      ]
     },
     "metadata": {
      "needs_background": "light"
     },
     "output_type": "display_data"
    }
   ],
   "source": [
    "sns.scatterplot(data=sleepEnhanced,\n",
    "                x='hours',\n",
    "                y='SedentaryMinutes',\n",
    "                hue='SleepBins')\n",
    "plt.xlabel(\"Sleep Hours\");"
   ]
  },
  {
   "cell_type": "markdown",
   "metadata": {},
   "source": [
    "It appears that the amount of sedentary minutes has some correlation with the amount of hours slept. \n",
    "\n",
    "In fact, those which tend to be very sedentary also sleep the least, while those which sleep more than 9 hours are also those which tend to be the least sedentary.\n",
    "\n",
    "In order to deepen our findings, we will add another dataset which enhances the current one with heart rate data: `heartrate_seconds_merged`"
   ]
  },
  {
   "cell_type": "code",
   "execution_count": null,
   "metadata": {},
   "outputs": [],
   "source": [
    "heartData = dataframes['heartrate_seconds_merged']\n",
    "heartData['Datetime'] = pd.to_datetime(heartData['Time'],\n",
    "                                       format=\"%m/%d/%Y %I:%M:%S %p\")\n",
    "heartData = heartData[heartData.Id.isin(sleepEnhanced.Id)].copy()\n",
    "heartData['Hour'] = heartData['Datetime'].dt.hour + (\n",
    "    heartData['Datetime'].dt.minute / 60)\n",
    "heartData['Date'] = heartData['Datetime'].dt.date"
   ]
  },
  {
   "cell_type": "code",
   "execution_count": null,
   "metadata": {},
   "outputs": [],
   "source": [
    "bins = [0, 5, 12, 17, 21, 24]\n",
    "\n",
    "labels = ['night', 'morning', 'day', 'afternoon', 'evening']\n",
    "\n",
    "heartData['TimeBins'] = pd.cut(\n",
    "    heartData['Hour'],\n",
    "    bins=bins,\n",
    "    labels=labels,\n",
    "    include_lowest=True,\n",
    "    right=True,\n",
    ")"
   ]
  },
  {
   "cell_type": "code",
   "execution_count": null,
   "metadata": {},
   "outputs": [],
   "source": [
    "heartData['binMedian'] = heartData.groupby(['Id', 'Date', 'TimeBins'\n",
    "                                            ])['Value'].transform('median')\n",
    "heartData = heartData[['Id', 'Date', 'TimeBins',\n",
    "                       'binMedian']].drop_duplicates()\n",
    "sleepEnhanced = sleepEnhanced.merge(heartData, on=['Id', 'Date'])"
   ]
  },
  {
   "cell_type": "markdown",
   "metadata": {},
   "source": [
    "When grouping hear rates, we took the median value for the hour, as sudden bursts of activity, like using the stairs or inacurracies of the sensor might affect our value"
   ]
  },
  {
   "cell_type": "code",
   "execution_count": null,
   "metadata": {},
   "outputs": [],
   "source": [
    "sns.barplot(data=sleepEnhanced,\n",
    "            x='TimeBins',\n",
    "            y='binMedian',\n",
    "            hue='goodSleeper',\n",
    "            ci=None);"
   ]
  },
  {
   "cell_type": "markdown",
   "metadata": {},
   "source": [
    "It appears that the median heart rate of good sleepers is higher in every time section of the day"
   ]
  },
  {
   "cell_type": "code",
   "execution_count": null,
   "metadata": {},
   "outputs": [],
   "source": [
    "fig, (ax1, ax2, ax3) = plt.subplots(1, 3, figsize=(25, 7.6))\n",
    "sns.boxplot(data=sleepEnhanced, x='goodSleeper', y='Calories', ax=ax1)\n",
    "\n",
    "sns.boxplot(data=sleepEnhanced, x='goodSleeper', y='TotalSteps', ax=ax2)\n",
    "\n",
    "sns.boxplot(data=sleepEnhanced, x='goodSleeper', y='ActiveMinutes', ax=ax3);"
   ]
  },
  {
   "cell_type": "markdown",
   "metadata": {},
   "source": [
    "The three graphs above are able to show some interesting information about the data (in order from left to right):\n",
    "1. On average good sleepers burn much less calories than the opposite side\n",
    "2. On average good sleepers walk a little more and the interquartile range is more packed\n",
    "3. Good sleepers are more active on average, and again the iqr is more packed. In both good and bad sleepers there are outliers in opposite directions, and good sleepers have tighter min-max values\n",
    "\n",
    "The findings are interestin as they show that those which sleep better do not burn more calories than those who sleep badly. In fact plot 2, 3 show that they are more active but it is shown in plot 1 that the activity must be at a lower intensity. "
   ]
  },
  {
   "cell_type": "markdown",
   "metadata": {},
   "source": [
    "## Is there an actionable way of improving sleep quality of those who sleep poorly?\n",
    "\n",
    "after analyzing the data from the fitbit users it appears that those which do not have good sleeping habits or are experiencing bad sleep should perform lower intensity activities which allow to be active longer. Moreover these activities should be at an intensity level which allows to sustain it for longer without consuming too much energy, thus reducing the burned calories. \n",
    "\n",
    "---"
   ]
  },
  {
   "cell_type": "markdown",
   "metadata": {
    "id": "3aD91bqU56Ye"
   },
   "source": [
    "#### Investigating correlation between features"
   ]
  },
  {
   "cell_type": "code",
   "execution_count": null,
   "metadata": {
    "colab": {
     "base_uri": "https://localhost:8080/",
     "height": 0
    },
    "id": "-QSwrw1WVZtQ",
    "outputId": "fe48db31-5706-4904-92e9-e011ea2d15ab"
   },
   "outputs": [],
   "source": [
    "feature_corr = df.corr()\n",
    "mask = np.zeros_like(feature_corr)\n",
    "mask[np.triu_indices_from(mask)] = True\n",
    "sns.heatmap(feature_corr, annot=True, mask=mask, vmin=-1, vmax=1, center=0)"
   ]
  },
  {
   "cell_type": "markdown",
   "metadata": {
    "id": "sl9FCKa62XHM"
   },
   "source": [
    "Looking at this graph, there are few interesting findings.\n",
    "\n",
    "\n",
    "*   Different activity levels don't seem to correlate with each other: we can not say, for example, highly active users are more or less likely to engage in modarete or light leveled activites.\n",
    "*   Sedentary active minutes are most negatively correlated to light active minutes which means people who exercise hard are more likely to rest more during the rest of the day. \n",
    "*   As expected, calories burned are highly correlated to the total distance and total steps, however it seems like light activity distance correlate to calories more strongly than the moderate activity level.  "
   ]
  },
  {
   "cell_type": "markdown",
   "metadata": {
    "id": "8NJuAHVq6vRQ"
   },
   "source": [
    "\n",
    "---\n",
    "\n",
    "## Heart rate and health risks <a name=\"heart\"></a>"
   ]
  },
  {
   "cell_type": "markdown",
   "metadata": {
    "id": "H3dn4s9t63Gj"
   },
   "source": [
    "In order to investigate heart rate of users we will use the `heartrate_seconds_merged` dataframe.\n",
    "\n",
    "We will start by transforming the date information to datetime so we will be able to extract more granular information from it. "
   ]
  },
  {
   "cell_type": "code",
   "execution_count": null,
   "metadata": {
    "colab": {
     "base_uri": "https://localhost:8080/",
     "height": 205
    },
    "id": "mCiJ4xye7AS1",
    "outputId": "c21d47a4-c3a4-44fc-a413-bf25f85119b8"
   },
   "outputs": [],
   "source": [
    "df_heart_rate = dataframes['heartrate_seconds_merged']\n",
    "df_heart_rate['Time'] = pd.to_datetime(df_heart_rate['Time'],\n",
    "                                       format=\"%m/%d/%Y %I:%M:%S %p\")\n",
    "df_heart_rate[\"Hour\"] = df_heart_rate[\"Time\"].dt.hour\n",
    "df_heart_rate[\"Date\"] = df_heart_rate[\"Time\"].dt.date\n",
    "df_heart_rate[\"Weekday\"] = df_heart_rate[\"Time\"].dt.day_name()"
   ]
  },
  {
   "cell_type": "markdown",
   "metadata": {
    "id": "BPHpSSgfscen"
   },
   "source": [
    "First, let's see avarage daily heart rate by date and also how it changes with the days of the week. "
   ]
  },
  {
   "cell_type": "code",
   "execution_count": null,
   "metadata": {
    "colab": {
     "base_uri": "https://localhost:8080/",
     "height": 490
    },
    "id": "b02ZaoCbsQrB",
    "outputId": "3eadc6dd-309c-48c5-8166-975ce77f7993"
   },
   "outputs": [],
   "source": [
    "df_heart_rate[\"Average Heart Rate Date\"] = df_heart_rate.groupby(\n",
    "    [\"Id\", \"Date\"])[\"Value\"].transform(\"mean\")\n",
    "df_heart_rate[\"Average Heart Rate Weekday\"] = df_heart_rate.groupby(\n",
    "    [\"Id\", \"Weekday\"])[\"Value\"].transform(\"mean\")\n",
    "\n",
    "fig, (ax1, ax2) = plt.subplots(1, 2, figsize=(20, 7))\n",
    "sns.scatterplot(data=df_heart_rate,\n",
    "                x=\"Date\",\n",
    "                y=\"Average Heart Rate Date\",\n",
    "                ax=ax1)\n",
    "ax1.tick_params(labelrotation=45);\n",
    "\n",
    "sns.scatterplot(data=df_heart_rate,\n",
    "                x=\"Weekday\",\n",
    "                y=\"Average Heart Rate Weekday\",\n",
    "                ax=ax2)\n",
    "ax2.tick_params(labelrotation=45);"
   ]
  },
  {
   "cell_type": "markdown",
   "metadata": {
    "id": "qDmhSlT6A3XF"
   },
   "source": [
    "The dataset does not contain gender or age of the participants so only way we can identify whether the user has a health risk is through their heart rates. Extrememely low or high heart rates may be an indication of a possible health problem. \n",
    "\n",
    "For most of us (adults), between 60 and 100 beats per minute (bpm) is normal. The rate can be affected by factors like stress, anxiety, hormones, medication, and how physically active you are. An athlete or more active person may have a resting heart rate as low as 40 beats per minute ([source](https://www.heart.org/en/healthy-living/fitness/fitness-basics/target-heart-rates)).\n",
    "\n",
    "So first, let's identify if there is any user with extremely low heart rate.\n"
   ]
  },
  {
   "cell_type": "code",
   "execution_count": null,
   "metadata": {
    "colab": {
     "base_uri": "https://localhost:8080/",
     "height": 787
    },
    "id": "hB9qdmPLB9Ia",
    "outputId": "02a0f19e-73c6-43dd-ca20-215711b12469"
   },
   "outputs": [],
   "source": [
    "low_heart_rate = df_heart_rate[df_heart_rate[\"Value\"] < 50].copy()\n",
    "\n",
    "low_heart_rate[\"Average Heart Rate Date\"] = low_heart_rate.groupby(\n",
    "    [\"Id\", \"Date\"])[\"Value\"].transform(\"mean\")\n",
    "\n",
    "fig, ax = plt.subplots()\n",
    "fig = sns.scatterplot(data=low_heart_rate,\n",
    "                      x=\"Date\",\n",
    "                      y=\"Average Heart Rate Date\")\n",
    "\n",
    "x_dates = low_heart_rate['Date'].sort_values().unique()\n",
    "ax.tick_params(labelrotation=45);"
   ]
  },
  {
   "cell_type": "markdown",
   "metadata": {
    "id": "cvMg7nL9Ca0W"
   },
   "source": [
    "Based on this plot, we can see that there is one particular user with a very low avarage heart rate. Let's have a closer look by plotting this participant's heartrate that are fewer than 45bpm."
   ]
  },
  {
   "cell_type": "code",
   "execution_count": null,
   "metadata": {
    "colab": {
     "base_uri": "https://localhost:8080/"
    },
    "id": "cgSnaHBSCye3",
    "outputId": "9af0b478-2290-445f-d8aa-eee0665595be"
   },
   "outputs": [],
   "source": [
    "df_heart_rate.iloc[df_heart_rate['Value'].idxmin()]"
   ]
  },
  {
   "cell_type": "code",
   "execution_count": null,
   "metadata": {
    "colab": {
     "base_uri": "https://localhost:8080/",
     "height": 1000
    },
    "id": "kjamRd9bD-3M",
    "outputId": "73e0336c-261b-45af-d8a7-797a8288daf7"
   },
   "outputs": [],
   "source": [
    "low_heart_rate_user = df_heart_rate[(df_heart_rate[\"Value\"] < 45)\n",
    "                                    & (df_heart_rate[\"Id\"] == 5577150313)]\n",
    "\n",
    "graph = sns.FacetGrid(low_heart_rate_user, col=\"Date\", col_wrap=6).add_legend()\n",
    "graph.map(plt.scatter, \"Hour\", \"Value\")\n",
    "plt.show()"
   ]
  },
  {
   "cell_type": "markdown",
   "metadata": {
    "id": "cjHCzUg7OF1g"
   },
   "source": [
    "For some cases, user being an athlete may explain relatively low heart rates throughout the day. And since gender, age and health status are unknown, we can not determine the health risks of the user only from this fitbit data. However, it seems the frequency and hours with low heart rate is irregular for this user throughout the month."
   ]
  },
  {
   "cell_type": "markdown",
   "metadata": {
    "id": "myLVQtRHTJAj"
   },
   "source": [
    "#### Exercise amount vs hours and days "
   ]
  },
  {
   "cell_type": "markdown",
   "metadata": {
    "id": "bVe01yeZVKoA"
   },
   "source": [
    "Let's look at which hours users are most active. "
   ]
  },
  {
   "cell_type": "code",
   "execution_count": null,
   "metadata": {
    "colab": {
     "base_uri": "https://localhost:8080/",
     "height": 0
    },
    "id": "xGQ5Wv_QOxlg",
    "outputId": "dc0d9b7b-c42d-4edb-9904-45737501657f"
   },
   "outputs": [],
   "source": [
    "df_heart_rate[\"Average Heart Rate Hours\"] = df_heart_rate.groupby(\n",
    "    'Hour').Value.transform(\"mean\")\n",
    "df_heart_rate = df_heart_rate.sort_values(by=\"Hour\")\n",
    "fig = sns.lineplot(data=df_heart_rate, x=\"Hour\", y=\"Average Heart Rate Hours\")\n",
    "plt.show()"
   ]
  },
  {
   "cell_type": "markdown",
   "metadata": {
    "id": "iJIzN0Kebry8"
   },
   "source": [
    "\n",
    "From this graph, we can see that most of the exercise is done between 16:00-18:00 during the day. And users are mostly inactive during evening between 23:00-05:00."
   ]
  },
  {
   "cell_type": "markdown",
   "metadata": {
    "id": "5AWNxqO1baPv"
   },
   "source": [
    "We will first merge hourly steps and calories dataframes and change the data type of the ActivityHour to datetime to perform calculations."
   ]
  },
  {
   "cell_type": "code",
   "execution_count": null,
   "metadata": {
    "id": "A9UVc_F3YjgX"
   },
   "outputs": [],
   "source": [
    "hourly_steps = dataframes[\"hourlySteps_merged\"]\n",
    "hourly_calories = dataframes[\"hourlyCalories_merged\"]\n",
    "\n",
    "hourly_steps['ActivityHour'] = pd.to_datetime(hourly_steps['ActivityHour'])\n",
    "hourly_calories['ActivityHour'] = pd.to_datetime(\n",
    "    hourly_calories['ActivityHour'])\n",
    "\n",
    "hourly_merged = pd.merge(hourly_steps,\n",
    "                         hourly_calories,\n",
    "                         on=['ActivityHour', 'Id'])"
   ]
  },
  {
   "cell_type": "code",
   "execution_count": null,
   "metadata": {
    "colab": {
     "base_uri": "https://localhost:8080/",
     "height": 0
    },
    "id": "S8AZmfTFbJif",
    "outputId": "633d4849-1fc8-4461-f93a-82e62b3367b9"
   },
   "outputs": [],
   "source": [
    "plt.subplots(figsize=(12, 4))\n",
    "hourly_merged_calories_mean = hourly_merged.groupby(\n",
    "    hourly_merged['ActivityHour'].dt.hour)['Calories'].mean()\n",
    "hourly_merged_calories_mean.plot(kind='bar')\n",
    "plt.xlabel(\"Hour of the day\")\n",
    "plt.ylabel(\"Calories\")\n",
    "plt.title('Calories by Time of Day')\n",
    "plt.show()"
   ]
  },
  {
   "cell_type": "markdown",
   "metadata": {
    "id": "vV9vajSecHsm"
   },
   "source": [
    "From this graph, we can see that users start to become more active between 6 and 8 am. The peak hours seem to occur between 5 and 7 pm, this is probably because people choose to work out after their work/school. And after 8pm, activity levels start decreasing, probably because people go to bed at that time.  \n"
   ]
  },
  {
   "cell_type": "code",
   "execution_count": null,
   "metadata": {
    "colab": {
     "base_uri": "https://localhost:8080/",
     "height": 0
    },
    "id": "yNICqgN_bJ04",
    "outputId": "40c8c2eb-84a7-4f44-a0ad-5d939e2a5cf4"
   },
   "outputs": [],
   "source": [
    "fig, axs = plt.subplots(figsize=(12, 4))\n",
    "hourly_merged_steps_mean = hourly_merged.groupby(\n",
    "    hourly_merged['ActivityHour'].dt.hour)['StepTotal'].mean()\n",
    "hourly_merged_steps_mean.plot(kind='bar')\n",
    "plt.xlabel(\"Hour of the day\")\n",
    "plt.ylabel(\"Total Steps\")\n",
    "plt.title('Most Active Time of Day')\n",
    "plt.show()"
   ]
  },
  {
   "cell_type": "markdown",
   "metadata": {
    "id": "77v-hfgOR9G9"
   },
   "source": [
    "We burn around 50 calories an hour ([source](https://www.sleepfoundation.org/how-sleep-works/how-your-body-uses-calories-while-you-sleep#:~:text=As%20a%20very%20approximate%20number,metabolic%20rate2%20(BMR)) while we sleep and can see that in the graph above. As the users wake up and start exercising, the number of calories burned increases, and peaks around the same time that the users are most active during the day.\n",
    "\n",
    "Now let's look at which days users are most active."
   ]
  },
  {
   "cell_type": "code",
   "execution_count": null,
   "metadata": {
    "colab": {
     "base_uri": "https://localhost:8080/",
     "height": 0
    },
    "id": "UBVuWckSUZVT",
    "outputId": "309d8148-ce58-4f7a-c21f-0429c55196e0"
   },
   "outputs": [],
   "source": [
    "import datetime\n",
    "import calendar\n",
    "\n",
    "\n",
    "def findDay(date):\n",
    "    d = date.weekday()\n",
    "    return (calendar.day_name[d])\n",
    "\n",
    "\n",
    "df[\"day_of_week\"] = df[\"ActivityDate\"].apply(findDay)\n",
    "\n",
    "df_mean = df.pivot_table(values=[\n",
    "    \"TotalDistance\", \"Calories\", \"VeryActiveMinutes\", \"FairlyActiveMinutes\",\n",
    "    \"LightlyActiveMinutes\", \"SedentaryMinutes\"\n",
    "],\n",
    "                         index=\"day_of_week\",\n",
    "                         aggfunc='mean')\n",
    "df_mean.reset_index(inplace=True)\n",
    "\n",
    "x_day_of_week = df_mean[\"day_of_week\"]\n",
    "x_day_of_week = x_day_of_week.replace(\"Monday\", 1)\n",
    "x_day_of_week = x_day_of_week.replace(\"Tuesday\", 2)\n",
    "x_day_of_week = x_day_of_week.replace(\"Wednesday\", 3)\n",
    "x_day_of_week = x_day_of_week.replace(\"Thursday\", 4)\n",
    "x_day_of_week = x_day_of_week.replace(\"Friday\", 5)\n",
    "x_day_of_week = x_day_of_week.replace(\"Saturday\", 6)\n",
    "x_day_of_week = x_day_of_week.replace(\"Sunday\", 7)"
   ]
  },
  {
   "cell_type": "code",
   "execution_count": null,
   "metadata": {
    "colab": {
     "base_uri": "https://localhost:8080/",
     "height": 0
    },
    "id": "UBVuWckSUZVT",
    "outputId": "309d8148-ce58-4f7a-c21f-0429c55196e0"
   },
   "outputs": [],
   "source": [
    "fig, (ax1, ax2) = plt.subplots(1, 2, figsize=(25, 7.6))\n",
    "ax1.bar(x_day_of_week, df_mean[\"TotalDistance\"])\n",
    "ax1.set_title(\"Day of Week Vs Total Distance\")\n",
    "ax1.set_xlabel(\"Day of Week\")\n",
    "ax1.set_ylabel(\"Total Distance\")\n",
    "ax1.set_xticks(ticks=x_day_of_week,\n",
    "           labels=[\"Fri\", \"Mon\", \"Sat\", \"Sun\", \"Thu\", \"Tue\", \"Wed\"])\n",
    "ax1.set_yticks(np.arange(0, 6, 0.5));\n",
    "\n",
    "ax2.bar(x_day_of_week, df_mean[\"Calories\"])\n",
    "ax2.set_title(\"Day of Week Vs Calories\")\n",
    "ax2.set_xlabel(\"Day of Week\")\n",
    "ax2.set_ylabel(\"Calories\")\n",
    "ax2.set_xticks(ticks=x_day_of_week,\n",
    "           labels=[\"Fri\", \"Mon\", \"Sat\", \"Sun\", \"Thu\", \"Tue\", \"Wed\"]);\n",
    "ax2.set_yticks(np.arange(0, 2600, 200));"
   ]
  },
  {
   "cell_type": "markdown",
   "metadata": {
    "id": "tkulNChAX5d6"
   },
   "source": [
    "From these two plots, we see that users seem a little less motivated to work out on Sundays and Thursdays. But activity level and amount of activity don't change much with differant days of the week. "
   ]
  },
  {
   "cell_type": "markdown",
   "metadata": {
    "id": "PKrSUQ_MgEfU"
   },
   "source": [
    "#### Predicting number of steps taken"
   ]
  },
  {
   "cell_type": "markdown",
   "metadata": {
    "id": "_DzwL1O_iN5f"
   },
   "source": [
    "First, we should remove the features that we won't need."
   ]
  },
  {
   "cell_type": "code",
   "execution_count": null,
   "metadata": {
    "colab": {
     "base_uri": "https://localhost:8080/",
     "height": 269
    },
    "id": "N9Jg0HMRgH8U",
    "outputId": "f644f41c-417e-4213-ad56-a40a7f36cc5d"
   },
   "outputs": [],
   "source": [
    "df = df.drop(columns=[\n",
    "    'Id', 'ActivityDate', 'TrackerDistance', 'LoggedActivitiesDistance',\n",
    "    'IsWeekend', 'UsedAllDay', 'day_of_week'\n",
    "])\n",
    "\n",
    "df.head()"
   ]
  },
  {
   "cell_type": "code",
   "execution_count": null,
   "metadata": {
    "id": "4o-q4ji8nLIj"
   },
   "outputs": [],
   "source": [
    "X = df[df.columns[~df.columns.isin(['TotalSteps'])]]  # input\n",
    "y = df[\"TotalSteps\"]  # output\n",
    "\n",
    "X_train, X_test, y_train, y_test = train_test_split(X, y, test_size=0.2)"
   ]
  },
  {
   "cell_type": "markdown",
   "metadata": {
    "id": "Ogj6R_VAnGxF"
   },
   "source": [
    "Let's first fit a simple linear regression model. "
   ]
  },
  {
   "cell_type": "code",
   "execution_count": null,
   "metadata": {
    "colab": {
     "base_uri": "https://localhost:8080/",
     "height": 466
    },
    "id": "5K_BA8Rdia2x",
    "outputId": "569028a8-0e5c-4ac3-c516-88b12b2ea88f"
   },
   "outputs": [],
   "source": [
    "from sklearn.model_selection import train_test_split\n",
    "from sklearn.linear_model import LinearRegression\n",
    "from sklearn.metrics import mean_squared_error\n",
    "from sklearn.preprocessing import PolynomialFeatures\n",
    "\n",
    "#Getting Polynomials\n",
    "poly = PolynomialFeatures(degree=2)\n",
    "X_poly = poly.fit_transform(X_train)\n",
    "\n",
    "#Fitting a Linear Regression Model to the data\n",
    "regressor = LinearRegression()\n",
    "regressor.fit(X_poly, y_train)\n",
    "\n",
    "#Prediction\n",
    "y_pred = regressor.predict(poly.fit_transform(X_test))\n",
    "\n",
    "print(\"Root Mean Squared Error is: \" +\n",
    "      str(mean_squared_error(y_test, y_pred, squared=False)))\n",
    "\n",
    "fig, ax = plt.subplots()\n",
    "ax.scatter(y_test, y_pred)\n",
    "ax.plot([y_test.min(), y_test.max()],\n",
    "        [y_test.min(), y_test.max()],\n",
    "        'k--',\n",
    "        lw=2)\n",
    "ax.set_xlabel('Measured')\n",
    "ax.set_ylabel('Predicted')\n",
    "plt.show()"
   ]
  },
  {
   "cell_type": "markdown",
   "metadata": {
    "id": "mf0HtV7Sp2sY"
   },
   "source": [
    "Now a Ridge regression model."
   ]
  },
  {
   "cell_type": "code",
   "execution_count": null,
   "metadata": {
    "colab": {
     "base_uri": "https://localhost:8080/",
     "height": 466
    },
    "id": "QSWwtrvynUSv",
    "outputId": "1c3fd896-f2a3-427b-cca8-c5dcb13d6bc2"
   },
   "outputs": [],
   "source": [
    "from sklearn.preprocessing import StandardScaler\n",
    "from sklearn.linear_model import Ridge\n",
    "from sklearn.pipeline import Pipeline\n",
    "from sklearn.model_selection import GridSearchCV\n",
    "from sklearn.model_selection import RepeatedKFold\n",
    "\n",
    "steps = [('poly', PolynomialFeatures(degree=2)), ('scalar', StandardScaler()),\n",
    "         ('ridge', Ridge())]\n",
    "\n",
    "ridge_params = {'ridge__alpha': np.linspace(0, 1, 100)}\n",
    "cv = RepeatedKFold(n_splits=10, n_repeats=3, random_state=1)\n",
    "\n",
    "#Fitting a Ridge regression Model to the data\n",
    "ridge_pipe = Pipeline(steps)\n",
    "grid_search = GridSearchCV(ridge_pipe, ridge_params, cv=cv)\n",
    "best = grid_search.fit(X_train, y_train).best_estimator_\n",
    "\n",
    "#Prediction\n",
    "y_pred = best.predict(X_test)\n",
    "\n",
    "print(\"Root Mean Squared Error is: \" +\n",
    "      str(mean_squared_error(y_test, y_pred, squared=False)))\n",
    "\n",
    "fig, ax = plt.subplots()\n",
    "ax.scatter(y_test, y_pred)\n",
    "ax.plot([y_test.min(), y_test.max()],\n",
    "        [y_test.min(), y_test.max()],\n",
    "        'k--',\n",
    "        lw=2)\n",
    "ax.set_xlabel('Measured')\n",
    "ax.set_ylabel('Predicted')\n",
    "plt.show()"
   ]
  },
  {
   "cell_type": "markdown",
   "metadata": {
    "id": "_7FTX0FhxIed"
   },
   "source": [
    "Now Random Forest Regression model. "
   ]
  },
  {
   "cell_type": "code",
   "execution_count": null,
   "metadata": {
    "colab": {
     "base_uri": "https://localhost:8080/",
     "height": 466
    },
    "id": "FEvPwmJVxKNy",
    "outputId": "6312f286-92fc-4d9e-c12d-43ea7dcc368a"
   },
   "outputs": [],
   "source": [
    "from sklearn.ensemble import RandomForestRegressor\n",
    "\n",
    "steps = [('poly', PolynomialFeatures(degree=2)), ('scalar', StandardScaler()),\n",
    "         ('regressor', RandomForestRegressor())]\n",
    "\n",
    "pipe = Pipeline(steps)\n",
    "pipe.fit(X_train, y_train)\n",
    "\n",
    "#Prediction\n",
    "y_pred = pipe.predict(X_test)\n",
    "\n",
    "print(\"Root Mean Squared Error is: \" +\n",
    "      str(mean_squared_error(y_test, y_pred, squared=False)))\n",
    "\n",
    "fig, ax = plt.subplots()\n",
    "ax.scatter(y_test, y_pred)\n",
    "ax.plot([y_test.min(), y_test.max()],\n",
    "        [y_test.min(), y_test.max()],\n",
    "        'k--',\n",
    "        lw=2)\n",
    "ax.set_xlabel('Measured')\n",
    "ax.set_ylabel('Predicted')\n",
    "plt.show()"
   ]
  }
 ],
 "metadata": {
  "colab": {
   "name": "Final Project.ipynb",
   "provenance": []
  },
  "kernelspec": {
   "display_name": "Python 3 (ipykernel)",
   "language": "python",
   "name": "python3"
  },
  "language_info": {
   "codemirror_mode": {
    "name": "ipython",
    "version": 3
   },
   "file_extension": ".py",
   "mimetype": "text/x-python",
   "name": "python",
   "nbconvert_exporter": "python",
   "pygments_lexer": "ipython3",
   "version": "3.7.12"
  }
 },
 "nbformat": 4,
 "nbformat_minor": 4
}
